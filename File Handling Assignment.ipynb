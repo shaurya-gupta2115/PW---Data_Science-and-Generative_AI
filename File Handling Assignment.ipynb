{
  "cells": [
    {
      "cell_type": "markdown",
      "id": "b1866add",
      "metadata": {
        "id": "b1866add"
      },
      "source": [
        "### 1. What is the difference between interpreted and compiled languages?\n",
        "\n",
        "Interpreted languages execute code line by line, while compiled languages translate the entire code into machine language before execution."
      ]
    },
    {
      "cell_type": "markdown",
      "id": "7e1ee02e",
      "metadata": {
        "id": "7e1ee02e"
      },
      "source": [
        "### 2. What is exception handling in Python?\n",
        "\n",
        "Exception handling in Python is a mechanism to handle runtime errors using try, except, else, and finally blocks."
      ]
    },
    {
      "cell_type": "markdown",
      "id": "ba697cc3",
      "metadata": {
        "id": "ba697cc3"
      },
      "source": [
        "### 3. What is the purpose of the finally block in exception handling?\n",
        "\n",
        "The finally block is used to execute code that must run regardless of whether an exception occurred or not."
      ]
    },
    {
      "cell_type": "markdown",
      "id": "f6627044",
      "metadata": {
        "id": "f6627044"
      },
      "source": [
        "### 4. What is logging in Python?\n",
        "\n",
        "Logging in Python is a way to track events that happen during the execution of a program, often used for debugging or monitoring."
      ]
    },
    {
      "cell_type": "markdown",
      "id": "41a85e77",
      "metadata": {
        "id": "41a85e77"
      },
      "source": [
        "### 5. What is the significance of the __del__ method in Python?\n",
        "\n",
        "The `__del__` method is a destructor method called when an object is about to be destroyed, used for cleanup tasks."
      ]
    },
    {
      "cell_type": "markdown",
      "id": "978508a1",
      "metadata": {
        "id": "978508a1"
      },
      "source": [
        "### 6. What is the difference between import and from ... import in Python?\n",
        "\n",
        "`import` imports the entire module, while `from ... import` imports specific attributes or functions from a module."
      ]
    },
    {
      "cell_type": "markdown",
      "id": "5d3dd8dd",
      "metadata": {
        "id": "5d3dd8dd"
      },
      "source": [
        "### 7. How can you handle multiple exceptions in Python?\n",
        "\n",
        "Multiple exceptions can be handled using multiple except blocks or by grouping exceptions in a tuple."
      ]
    },
    {
      "cell_type": "markdown",
      "id": "7aa4c43b",
      "metadata": {
        "id": "7aa4c43b"
      },
      "source": [
        "### 8. What is the purpose of the with statement when handling files in Python?\n",
        "\n",
        "The `with` statement ensures that a file is properly closed after its suite finishes, even if an exception occurs."
      ]
    },
    {
      "cell_type": "markdown",
      "id": "bf0dd6cf",
      "metadata": {
        "id": "bf0dd6cf"
      },
      "source": [
        "### 9. What is the difference between multithreading and multiprocessing?\n",
        "\n",
        "Multithreading involves multiple threads within the same process, while multiprocessing involves multiple processes with separate memory spaces."
      ]
    },
    {
      "cell_type": "markdown",
      "id": "c9169ce9",
      "metadata": {
        "id": "c9169ce9"
      },
      "source": [
        "### 10. What are the advantages of using logging in a program?\n",
        "\n",
        "Logging helps in debugging, monitoring, and maintaining a record of program execution and errors."
      ]
    },
    {
      "cell_type": "markdown",
      "id": "5bbccef5",
      "metadata": {
        "id": "5bbccef5"
      },
      "source": [
        "### 11. What is memory management in Python?\n",
        "\n",
        "Memory management in Python involves the allocation and deallocation of memory automatically using reference counting and garbage collection."
      ]
    },
    {
      "cell_type": "markdown",
      "id": "7a496e90",
      "metadata": {
        "id": "7a496e90"
      },
      "source": [
        "### 12. What are the basic steps involved in exception handling in Python?\n",
        "\n",
        "1. Use a `try` block to wrap code that may raise an exception.\n",
        "2. Use `except` blocks to handle specific exceptions.\n",
        "3. Optionally use `else` for code that runs if no exception occurs.\n",
        "4. Use `finally` for cleanup code."
      ]
    },
    {
      "cell_type": "markdown",
      "id": "5c33047c",
      "metadata": {
        "id": "5c33047c"
      },
      "source": [
        "### 13. Why is memory management important in Python?\n",
        "\n",
        "Memory management ensures efficient use of memory, prevents memory leaks, and improves program performance."
      ]
    },
    {
      "cell_type": "markdown",
      "id": "8df75b6a",
      "metadata": {
        "id": "8df75b6a"
      },
      "source": [
        "### 14. What is the role of try and except in exception handling?\n",
        "\n",
        "`try` defines a block of code to test for exceptions, and `except` defines how to handle those exceptions."
      ]
    },
    {
      "cell_type": "markdown",
      "id": "4b781f85",
      "metadata": {
        "id": "4b781f85"
      },
      "source": [
        "### 15. How does Python's garbage collection system work?\n",
        "\n",
        "Python's garbage collection system automatically deallocates memory by removing objects with zero references."
      ]
    },
    {
      "cell_type": "markdown",
      "id": "0d884a3c",
      "metadata": {
        "id": "0d884a3c"
      },
      "source": [
        "### 16. What is the purpose of the else block in exception handling?\n",
        "\n",
        "The `else` block executes code if no exceptions are raised in the `try` block."
      ]
    },
    {
      "cell_type": "markdown",
      "id": "6336117c",
      "metadata": {
        "id": "6336117c"
      },
      "source": [
        "### 17. What are the common logging levels in Python?\n",
        "\n",
        "Common logging levels are DEBUG, INFO, WARNING, ERROR, and CRITICAL."
      ]
    },
    {
      "cell_type": "markdown",
      "id": "f06e0872",
      "metadata": {
        "id": "f06e0872"
      },
      "source": [
        "### 18. What is the difference between os.fork() and multiprocessing in Python?\n",
        "\n",
        "`os.fork()` creates a child process by duplicating the current process, while `multiprocessing` provides a higher-level interface for creating and managing processes."
      ]
    },
    {
      "cell_type": "markdown",
      "id": "bd86b27f",
      "metadata": {
        "id": "bd86b27f"
      },
      "source": [
        "### 19. What is the importance of closing a file in Python?\n",
        "\n",
        "Closing a file ensures that all resources are released and changes are saved properly."
      ]
    },
    {
      "cell_type": "markdown",
      "id": "d0ab71ba",
      "metadata": {
        "id": "d0ab71ba"
      },
      "source": [
        "### 20. What is the difference between file.read() and file.readline() in Python?\n",
        "\n",
        "`file.read()` reads the entire file, while `file.readline()` reads one line at a time."
      ]
    },
    {
      "cell_type": "markdown",
      "id": "53047067",
      "metadata": {
        "id": "53047067"
      },
      "source": [
        "### 21. What is the logging module in Python used for?\n",
        "\n",
        "The logging module is used to record messages, warnings, and errors during program execution."
      ]
    },
    {
      "cell_type": "markdown",
      "id": "6f0f5f47",
      "metadata": {
        "id": "6f0f5f47"
      },
      "source": [
        "### 22. What is the os module in Python used for in file handling?\n",
        "\n",
        "The `os` module provides functions to interact with the operating system, such as file and directory manipulation."
      ]
    },
    {
      "cell_type": "markdown",
      "id": "5c50a1c7",
      "metadata": {
        "id": "5c50a1c7"
      },
      "source": [
        "### 23. What are the challenges associated with memory management in Python?\n",
        "\n",
        "Challenges include managing circular references, handling large objects, and ensuring efficient garbage collection."
      ]
    },
    {
      "cell_type": "markdown",
      "id": "04c33318",
      "metadata": {
        "id": "04c33318"
      },
      "source": [
        "### 24. How do you raise an exception manually in Python?\n",
        "\n",
        "You can raise an exception manually using the `raise` keyword, e.g., `raise ValueError('An error occurred')`."
      ]
    },
    {
      "cell_type": "markdown",
      "id": "179d9f17",
      "metadata": {
        "id": "179d9f17"
      },
      "source": [
        "### 25. Why is it important to use multithreading in certain applications?\n",
        "\n",
        "Multithreading is important for improving performance in I/O-bound tasks and for concurrent execution."
      ]
    },
    {
      "cell_type": "code",
      "execution_count": null,
      "id": "4aaba3c2",
      "metadata": {
        "id": "4aaba3c2"
      },
      "outputs": [],
      "source": [
        "# 1. How can you open a file for writing in Python and write a string to it?\n",
        "with open('output.txt', 'w') as file:\n",
        "    file.write('Hello, World!')"
      ]
    },
    {
      "cell_type": "code",
      "execution_count": null,
      "id": "4ff3590e",
      "metadata": {
        "id": "4ff3590e"
      },
      "outputs": [],
      "source": [
        "# 2. Write a Python program to read the contents of a file and print each line.\n",
        "with open('input.txt', 'r') as file:\n",
        "    for line in file:\n",
        "        print(line.strip())"
      ]
    },
    {
      "cell_type": "code",
      "execution_count": null,
      "id": "07875776",
      "metadata": {
        "id": "07875776"
      },
      "outputs": [],
      "source": [
        "# 3. How would you handle a case where the file doesn't exist while trying to open it for reading?\n",
        "try:\n",
        "    with open('nonexistent.txt', 'r') as file:\n",
        "        content = file.read()\n",
        "except FileNotFoundError:\n",
        "    print('File not found.')"
      ]
    },
    {
      "cell_type": "code",
      "execution_count": null,
      "id": "91eaedab",
      "metadata": {
        "id": "91eaedab"
      },
      "outputs": [],
      "source": [
        "# 4. Write a Python script that reads from one file and writes its content to another file.\n",
        "with open('source.txt', 'r') as source_file:\n",
        "    content = source_file.read()\n",
        "with open('destination.txt', 'w') as dest_file:\n",
        "    dest_file.write(content)"
      ]
    },
    {
      "cell_type": "code",
      "execution_count": null,
      "id": "7fa1e0ba",
      "metadata": {
        "id": "7fa1e0ba"
      },
      "outputs": [],
      "source": [
        "# 5. How would you catch and handle division by zero error in Python?\n",
        "try:\n",
        "    result = 10 / 0\n",
        "except ZeroDivisionError:\n",
        "    print('Division by zero is not allowed.')"
      ]
    },
    {
      "cell_type": "code",
      "execution_count": null,
      "id": "e0cd8f70",
      "metadata": {
        "id": "e0cd8f70"
      },
      "outputs": [],
      "source": [
        "# 6. Write a Python program that logs an error message to a log file when a division by zero exception occurs.\n",
        "import logging\n",
        "logging.basicConfig(filename='error.log', level=logging.ERROR)\n",
        "try:\n",
        "    result = 10 / 0\n",
        "except ZeroDivisionError as e:\n",
        "    logging.error('Division by zero occurred: %s', e)"
      ]
    },
    {
      "cell_type": "code",
      "execution_count": null,
      "id": "eb964b37",
      "metadata": {
        "id": "eb964b37"
      },
      "outputs": [],
      "source": [
        "# 7. How do you log information at different levels (INFO, ERROR, WARNING) in Python using the logging module?\n",
        "import logging\n",
        "logging.basicConfig(level=logging.DEBUG)\n",
        "logging.info('This is an info message.')\n",
        "logging.warning('This is a warning message.')\n",
        "logging.error('This is an error message.')"
      ]
    },
    {
      "cell_type": "code",
      "execution_count": null,
      "id": "22e6c267",
      "metadata": {
        "id": "22e6c267"
      },
      "outputs": [],
      "source": [
        "# 8. Write a program to handle a file opening error using exception handling.\n",
        "try:\n",
        "    with open('nonexistent.txt', 'r') as file:\n",
        "        content = file.read()\n",
        "except FileNotFoundError:\n",
        "    print('File not found.')"
      ]
    },
    {
      "cell_type": "code",
      "execution_count": null,
      "id": "7c98c4fa",
      "metadata": {
        "id": "7c98c4fa"
      },
      "outputs": [],
      "source": [
        "# 9. How can you read a file line by line and store its content in a list in Python?\n",
        "with open('input.txt', 'r') as file:\n",
        "    lines = [line.strip() for line in file]\n",
        "print(lines)"
      ]
    },
    {
      "cell_type": "code",
      "execution_count": null,
      "id": "5b47a83c",
      "metadata": {
        "id": "5b47a83c"
      },
      "outputs": [],
      "source": [
        "# 10. How can you append data to an existing file in Python?\n",
        "with open('output.txt', 'a') as file:\n",
        "    file.write('\\nAppended text.')"
      ]
    },
    {
      "cell_type": "code",
      "execution_count": null,
      "id": "91a66349",
      "metadata": {
        "id": "91a66349"
      },
      "outputs": [],
      "source": [
        "# 11. Write a Python program that uses a try-except block to handle an error when attempting to access a dictionary key that doesn't exist.\n",
        "data = {'key1': 'value1'}\n",
        "try:\n",
        "    print(data['key2'])\n",
        "except KeyError:\n",
        "    print('Key not found.')"
      ]
    },
    {
      "cell_type": "code",
      "execution_count": null,
      "id": "8a383ab4",
      "metadata": {
        "id": "8a383ab4"
      },
      "outputs": [],
      "source": [
        "# 12. Write a program that demonstrates using multiple except blocks to handle different types of exceptions.\n",
        "try:\n",
        "    result = 10 / 0\n",
        "    print(undefined_variable)\n",
        "except ZeroDivisionError:\n",
        "    print('Division by zero error.')\n",
        "except NameError:\n",
        "    print('Variable not defined.')"
      ]
    },
    {
      "cell_type": "code",
      "execution_count": null,
      "id": "9d1150d4",
      "metadata": {
        "id": "9d1150d4"
      },
      "outputs": [],
      "source": [
        "# 13. How would you check if a file exists before attempting to read it in Python?\n",
        "import os\n",
        "if os.path.exists('input.txt'):\n",
        "    with open('input.txt', 'r') as file:\n",
        "        print(file.read())\n",
        "else:\n",
        "    print('File does not exist.')"
      ]
    },
    {
      "cell_type": "code",
      "execution_count": null,
      "id": "1958519e",
      "metadata": {
        "id": "1958519e"
      },
      "outputs": [],
      "source": [
        "# 14. Write a program that uses the logging module to log both informational and error messages.\n",
        "import logging\n",
        "logging.basicConfig(filename='app.log', level=logging.INFO)\n",
        "logging.info('This is an informational message.')\n",
        "try:\n",
        "    result = 10 / 0\n",
        "except ZeroDivisionError as e:\n",
        "    logging.error('An error occurred: %s', e)"
      ]
    },
    {
      "cell_type": "code",
      "execution_count": null,
      "id": "264994bd",
      "metadata": {
        "id": "264994bd"
      },
      "outputs": [],
      "source": [
        "# 15. Write a Python program that prints the content of a file and handles the case when the file is empty.\n",
        "with open('input.txt', 'r') as file:\n",
        "    content = file.read()\n",
        "    if content:\n",
        "        print(content)\n",
        "    else:\n",
        "        print('File is empty.')"
      ]
    },
    {
      "cell_type": "code",
      "execution_count": null,
      "id": "37baf4cd",
      "metadata": {
        "id": "37baf4cd"
      },
      "outputs": [],
      "source": [
        "# 16. Demonstrate how to use memory profiling to check the memory usage of a small program.\n",
        "from memory_profiler import profile\n",
        "\n",
        "@profile\n",
        "def example_function():\n",
        "    data = [i for i in range(100000)]\n",
        "    return data\n",
        "\n",
        "example_function()"
      ]
    },
    {
      "cell_type": "code",
      "execution_count": null,
      "id": "2a7111f2",
      "metadata": {
        "id": "2a7111f2"
      },
      "outputs": [],
      "source": [
        "# 17. Write a Python program to create and write a list of numbers to a file, one number per line.\n",
        "numbers = [1, 2, 3, 4, 5]\n",
        "with open('numbers.txt', 'w') as file:\n",
        "    for number in numbers:\n",
        "        file.write(f'{number}\\n')"
      ]
    },
    {
      "cell_type": "code",
      "execution_count": null,
      "id": "272b090b",
      "metadata": {
        "id": "272b090b"
      },
      "outputs": [],
      "source": [
        "# 18. How would you implement a basic logging setup that logs to a file with rotation after 1MB?\n",
        "from logging.handlers import RotatingFileHandler\n",
        "import logging\n",
        "\n",
        "handler = RotatingFileHandler('app.log', maxBytes=1_000_000, backupCount=3)\n",
        "logging.basicConfig(handlers=[handler], level=logging.INFO)\n",
        "logging.info('This is a log message.')"
      ]
    },
    {
      "cell_type": "code",
      "execution_count": null,
      "id": "5ee832ce",
      "metadata": {
        "id": "5ee832ce"
      },
      "outputs": [],
      "source": [
        "# 19. Write a program that handles both IndexError and KeyError using a try-except block.\n",
        "data = {'key1': 'value1'}\n",
        "list_data = [1, 2, 3]\n",
        "try:\n",
        "    print(data['key2'])\n",
        "    print(list_data[5])\n",
        "except KeyError:\n",
        "    print('Key not found.')\n",
        "except IndexError:\n",
        "    print('Index out of range.')"
      ]
    },
    {
      "cell_type": "code",
      "execution_count": null,
      "id": "f5f770ae",
      "metadata": {
        "id": "f5f770ae"
      },
      "outputs": [],
      "source": [
        "# 20. How would you open a file and read its contents using a context manager in Python?\n",
        "with open('input.txt', 'r') as file:\n",
        "    content = file.read()\n",
        "print(content)"
      ]
    },
    {
      "cell_type": "code",
      "execution_count": null,
      "id": "6e60ad46",
      "metadata": {
        "id": "6e60ad46"
      },
      "outputs": [],
      "source": [
        "# 21. Write a Python program that reads a file and prints the number of occurrences of a specific word.\n",
        "word_to_count = 'example'\n",
        "with open('input.txt', 'r') as file:\n",
        "    content = file.read()\n",
        "    count = content.split().count(word_to_count)\n",
        "print(f'The word \"{word_to_count}\" appears {count} times.')"
      ]
    },
    {
      "cell_type": "code",
      "execution_count": null,
      "id": "8d3a8876",
      "metadata": {
        "id": "8d3a8876"
      },
      "outputs": [],
      "source": [
        "# 22. How can you check if a file is empty before attempting to read its contents?\n",
        "import os\n",
        "if os.stat('input.txt').st_size == 0:\n",
        "    print('File is empty.')\n",
        "else:\n",
        "    with open('input.txt', 'r') as file:\n",
        "        print(file.read())"
      ]
    },
    {
      "cell_type": "code",
      "execution_count": null,
      "id": "e387053a",
      "metadata": {
        "id": "e387053a"
      },
      "outputs": [],
      "source": [
        "# 23. Write a Python program that writes to a log file when an error occurs during file handling.\n",
        "import logging\n",
        "logging.basicConfig(filename='file_error.log', level=logging.ERROR)\n",
        "try:\n",
        "    with open('nonexistent.txt', 'r') as file:\n",
        "        content = file.read()\n",
        "except FileNotFoundError as e:\n",
        "    logging.error('File handling error: %s', e)"
      ]
    }
  ],
  "metadata": {
    "kernelspec": {
      "display_name": "base",
      "language": "python",
      "name": "python3"
    },
    "language_info": {
      "codemirror_mode": {
        "name": "ipython",
        "version": 3
      },
      "file_extension": ".py",
      "mimetype": "text/x-python",
      "name": "python",
      "nbconvert_exporter": "python",
      "pygments_lexer": "ipython3",
      "version": "3.12.7"
    },
    "colab": {
      "provenance": []
    }
  },
  "nbformat": 4,
  "nbformat_minor": 5
}