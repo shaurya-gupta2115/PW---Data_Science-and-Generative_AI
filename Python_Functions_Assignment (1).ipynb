{
  "cells": [
    {
      "cell_type": "markdown",
      "source": [
        "\n",
        "# Python Functions and Concepts – Theory and Practical Questions\n",
        "\n",
        "## Theory Questions\n",
        "\n",
        "### 1. What is the difference between a function and a method in Python?\n",
        "- A  function  is a block of reusable code that is defined using the `def` keyword and can exist independently.\n",
        "- A  method  is a function associated with an object (usually a class instance). It is called using the dot (`.`) notation.\n",
        "\n",
        " Example :\n",
        "```python\n",
        "def greet(name):  # function\n",
        "    return f\"Hello, {name}\"\n",
        "class Person:\n",
        "    def greet(self):  # method\n",
        "        return f\"Hello, I am a person.\"\n",
        "```\n",
        "\n",
        "### 2. Function Arguments and Parameters in Python\n",
        "-  Parameters  are variables listed in the function definition.\n",
        "-  Arguments  are the actual values passed to the function.\n",
        "\n",
        " Example :\n",
        "```python\n",
        "def add(a, b):  # parameters\n",
        "    return a + b\n",
        "\n",
        "result = add(2, 3)  # arguments\n",
        "```\n",
        "\n",
        "### 3. Different ways to define and call a function in Python\n",
        "- Using `def` keyword.\n",
        "- Using `lambda` functions.\n",
        "\n",
        " Example :\n",
        "```python\n",
        "def square(x):\n",
        "    return x * x\n",
        "\n",
        "sq = lambda x: x * x\n",
        "\n",
        "print(square(4), sq(4))\n",
        "```\n",
        "\n",
        "### 4. Purpose of \"return\" Statement\n",
        "The \"return\" statement exits a function and sends back a result.\n",
        "\n",
        " Example :\n",
        "```python\n",
        "def multiply(a, b):\n",
        "    return a * b\n",
        "```\n",
        "\n",
        "### 5. Iterators vs Iterables\n",
        "-  Iterable : Object capable of returning its members one at a time (e.g., list, tuple).\n",
        "-  Iterator : Object with a `__next__()` method that keeps state.\n",
        "\n",
        " Example :\n",
        "```python\n",
        "lst = [1, 2, 3]\n",
        "it = iter(lst)  # iterator from iterable\n",
        "```\n",
        "\n",
        "### 6. Generators in Python\n",
        "Generators are iterators defined using functions with `yield` instead of `return`.\n",
        "\n",
        " Example :\n",
        "```python\n",
        "def gen():\n",
        "    yield 1\n",
        "    yield 2\n",
        "```\n",
        "\n",
        "### 7. Advantages of Generators\n",
        "- Memory-efficient\n",
        "- Lazy evaluation (generate values on the fly)\n",
        "- Suitable for large data\n",
        "\n",
        "### 8. Lambda Function\n",
        "Anonymous one-line functions using `lambda` keyword.\n",
        "\n",
        " Example :\n",
        "```python\n",
        "f = lambda x: x * 2\n",
        "print(f(5))\n",
        "```\n",
        "\n",
        "### 9. Purpose and Usage of `map()`\n",
        "Applies a function to all items in an iterable.\n",
        "\n",
        " Example :\n",
        "```python\n",
        "lst = [1, 2, 3]\n",
        "print(list(map(lambda x: x * 2, lst)))\n",
        "```\n",
        "\n",
        "### 10. `map()` vs `reduce()` vs `filter()`\n",
        "- `map()`: Applies a function to all elements.\n",
        "- `reduce()`: Applies rolling computation.\n",
        "- `filter()`: Filters elements based on condition.\n",
        "\n",
        " Example :\n",
        "```python\n",
        "from functools import reduce\n",
        "lst = [1, 2, 3, 4]\n",
        "print(list(map(lambda x: x * 2, lst)))\n",
        "print(reduce(lambda x, y: x + y, lst))\n",
        "print(list(filter(lambda x: x % 2 == 0, lst)))\n",
        "```\n"
      ],
      "metadata": {
        "id": "OI_NerO5lkjd"
      },
      "id": "OI_NerO5lkjd"
    },
    {
      "cell_type": "markdown",
      "id": "5785e336",
      "metadata": {
        "id": "5785e336"
      },
      "source": [
        "### 1.  Sum of all even numbers"
      ]
    },
    {
      "cell_type": "code",
      "execution_count": null,
      "id": "b8f7fc94",
      "metadata": {
        "id": "b8f7fc94"
      },
      "outputs": [],
      "source": [
        "def sum_even(numbers):\n",
        "    return sum(num for num in numbers if num % 2 == 0)"
      ]
    },
    {
      "cell_type": "markdown",
      "id": "03caf9f0",
      "metadata": {
        "id": "03caf9f0"
      },
      "source": [
        "### 2. Reverse a string"
      ]
    },
    {
      "cell_type": "code",
      "execution_count": null,
      "id": "c8194dda",
      "metadata": {
        "id": "c8194dda"
      },
      "outputs": [],
      "source": [
        "def reverse_string(s):\n",
        "    return s[::-1]"
      ]
    },
    {
      "cell_type": "markdown",
      "id": "2c145ca6",
      "metadata": {
        "id": "2c145ca6"
      },
      "source": [
        "### 3. Squares of list"
      ]
    },
    {
      "cell_type": "code",
      "execution_count": null,
      "id": "3fb62966",
      "metadata": {
        "id": "3fb62966"
      },
      "outputs": [],
      "source": [
        "def square_list(lst):\n",
        "    return [x**2 for x in lst]"
      ]
    },
    {
      "cell_type": "markdown",
      "id": "4448a533",
      "metadata": {
        "id": "4448a533"
      },
      "source": [
        "### 4. Prime checker from 1 to 200"
      ]
    },
    {
      "cell_type": "code",
      "execution_count": null,
      "id": "c2845284",
      "metadata": {
        "id": "c2845284"
      },
      "outputs": [],
      "source": [
        "\n",
        "def is_prime(n):\n",
        "    if n < 2:\n",
        "        return False\n",
        "    for i in range(2, int(n ** 0.5) + 1):\n",
        "        if n % i == 0:\n",
        "            return False\n",
        "    return True\n",
        "\n",
        "primes = [n for n in range(1, 201) if is_prime(n)]\n"
      ]
    },
    {
      "cell_type": "markdown",
      "id": "a0d9cc21",
      "metadata": {
        "id": "a0d9cc21"
      },
      "source": [
        "### 5. Fibonacci iterator"
      ]
    },
    {
      "cell_type": "code",
      "execution_count": null,
      "id": "5b65c092",
      "metadata": {
        "id": "5b65c092"
      },
      "outputs": [],
      "source": [
        "\n",
        "class Fibonacci:\n",
        "    def __init__(self, max_terms):\n",
        "        self.max_terms = max_terms\n",
        "        self.a, self.b = 0, 1\n",
        "        self.index = 0\n",
        "\n",
        "    def __iter__(self):\n",
        "        return self\n",
        "\n",
        "    def __next__(self):\n",
        "        if self.index >= self.max_terms:\n",
        "            raise StopIteration\n",
        "        self.index += 1\n",
        "        self.a, self.b = self.b, self.a + self.b\n",
        "        return self.a\n"
      ]
    },
    {
      "cell_type": "markdown",
      "id": "e78e6fc6",
      "metadata": {
        "id": "e78e6fc6"
      },
      "source": [
        "### 6. Generator powers of 2"
      ]
    },
    {
      "cell_type": "code",
      "execution_count": null,
      "id": "8438dea8",
      "metadata": {
        "id": "8438dea8"
      },
      "outputs": [],
      "source": [
        "\n",
        "def powers_of_2(n):\n",
        "    for i in range(n+1):\n",
        "        yield 2 ** i\n"
      ]
    },
    {
      "cell_type": "markdown",
      "id": "4eef87d5",
      "metadata": {
        "id": "4eef87d5"
      },
      "source": [
        "### 7. Line-by-line file reader generator"
      ]
    },
    {
      "cell_type": "code",
      "execution_count": null,
      "id": "26898905",
      "metadata": {
        "id": "26898905"
      },
      "outputs": [],
      "source": [
        "\n",
        "def read_file_line_by_line(file_path):\n",
        "    with open(file_path, 'r') as file:\n",
        "        for line in file:\n",
        "            yield line.strip()\n"
      ]
    },
    {
      "cell_type": "markdown",
      "id": "07a373c1",
      "metadata": {
        "id": "07a373c1"
      },
      "source": [
        "### 9. Lambda sort tuples by second element"
      ]
    },
    {
      "cell_type": "code",
      "execution_count": null,
      "id": "74b4d310",
      "metadata": {
        "id": "74b4d310"
      },
      "outputs": [],
      "source": [
        "\n",
        "data = [(1, 3), (2, 1), (4, 2)]\n",
        "sorted_data = sorted(data, key=lambda x: x[1])\n"
      ]
    },
    {
      "cell_type": "markdown",
      "id": "cc986efe",
      "metadata": {
        "id": "cc986efe"
      },
      "source": [
        "###. 10. Map Celsius to Fahrenheit"
      ]
    },
    {
      "cell_type": "code",
      "execution_count": null,
      "id": "91b2cead",
      "metadata": {
        "id": "91b2cead"
      },
      "outputs": [],
      "source": [
        "\n",
        "celsius = [0, 10, 20]\n",
        "fahrenheit = list(map(lambda c: (9/5)*c + 32, celsius))\n"
      ]
    },
    {
      "cell_type": "markdown",
      "id": "569d850d",
      "metadata": {
        "id": "569d850d"
      },
      "source": [
        "### 11. Filter vowels from string"
      ]
    },
    {
      "cell_type": "code",
      "execution_count": null,
      "id": "fdac7915",
      "metadata": {
        "id": "fdac7915"
      },
      "outputs": [],
      "source": [
        "\n",
        "def remove_vowels(s):\n",
        "    return ''.join(filter(lambda x: x.lower() not in 'aeiou', s))\n",
        "\n",
        "\n"
      ]
    },
    {
      "cell_type": "markdown",
      "id": "669aa69f",
      "metadata": {
        "id": "669aa69f"
      },
      "source": [
        "### 12. Accounting routine with lambda and map"
      ]
    },
    {
      "cell_type": "code",
      "execution_count": null,
      "id": "8e37be62",
      "metadata": {
        "id": "8e37be62",
        "outputId": "70c57ae7-1db5-4ac2-cf06-f17c47df6152"
      },
      "outputs": [
        {
          "data": {
            "text/plain": [
              "[('34587', 163.8),\n",
              " ('98762', 284.0),\n",
              " ('77226', 108.85000000000001),\n",
              " ('88112', 84.97)]"
            ]
          },
          "execution_count": 5,
          "metadata": {},
          "output_type": "execute_result"
        }
      ],
      "source": [
        "\n",
        "orders = [\n",
        "    ['34587', 'Pwskills', 4, 40.95],\n",
        "    ['98762', 'c++ dsa', 5, 56.80],\n",
        "    ['77226', 'python', 3, 32.95],\n",
        "    ['88112', 'llm and data analysis', 3, 24.99]\n",
        "]\n",
        "\n",
        "result = list(map(lambda x: (x[0], x[2]*x[3] if x[2]*x[3] >= 100 else x[2]*x[3]+10), orders))\n",
        "result\n"
      ]
    }
  ],
  "metadata": {
    "kernelspec": {
      "display_name": "base",
      "language": "python",
      "name": "python3"
    },
    "language_info": {
      "codemirror_mode": {
        "name": "ipython",
        "version": 3
      },
      "file_extension": ".py",
      "mimetype": "text/x-python",
      "name": "python",
      "nbconvert_exporter": "python",
      "pygments_lexer": "ipython3",
      "version": "3.12.7"
    },
    "colab": {
      "provenance": []
    }
  },
  "nbformat": 4,
  "nbformat_minor": 5
}