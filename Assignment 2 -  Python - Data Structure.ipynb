{
  "nbformat": 4,
  "nbformat_minor": 0,
  "metadata": {
    "colab": {
      "provenance": []
    },
    "kernelspec": {
      "name": "python3",
      "display_name": "Python 3"
    },
    "language_info": {
      "name": "python"
    }
  },
  "cells": [
    {
      "cell_type": "markdown",
      "source": [
        "\n",
        "# Pwskills – Data Types and Structures Assignment (Python)\n",
        "\n",
        "---\n",
        "\n",
        "##  Theory Questions\n",
        "\n",
        "### 1. What are data structures, and why are they important?\n",
        "Data structures are specialized formats for organizing, processing, and storing data. Examples include lists, tuples, dictionaries, and sets. They are important for:\n",
        "- Efficient data access\n",
        "- Optimized storage\n",
        "- Easier data manipulation and searching\n",
        "\n",
        "---\n",
        "\n",
        "### 2. Explain the difference between mutable and immutable data types with examples\n",
        "-  Mutable : Can be changed after creation  \n",
        "  ```python\n",
        "  my_list = [1, 2, 3]\n",
        "  my_list.append(4)  # list changes\n",
        "  ```\n",
        "\n",
        "-  Immutable : Cannot be changed once created  \n",
        "  ```python\n",
        "  my_str = \"hello\"\n",
        "  # my_str[0] = 'H'  #  Not allowed\n",
        "  ```\n",
        "\n",
        "---\n",
        "\n",
        "### 3. What are the main differences between lists and tuples in Python?\n",
        "\n",
        "\n",
        "list:\n",
        "- mutable\n",
        "- [2,\"apple\"]\n",
        "- Slower\n",
        "- Changing data\n",
        "\n",
        "while\n",
        "\n",
        "tuples:\n",
        "- immutable\n",
        "- (2,\"apple\")\n",
        "- Faster\n",
        "- Fixed data\n",
        "---\n",
        "\n",
        "### 4. Describe how dictionaries store data\n",
        "Dictionaries store data as key-value pairs using a hash table. Each key maps to a value, enabling fast access.\n",
        "```python\n",
        "student = {\"name\": \"Alice\", \"age\": 20}\n",
        "```\n",
        "\n",
        "---\n",
        "\n",
        "### 5. Why might you use a set instead of a list in Python?\n",
        "- To  remove duplicates\n",
        "- For  faster membership testing\n",
        "- When order doesn’t matter\n",
        "```python\n",
        "set([1, 2, 2, 3])  # {1, 2, 3}\n",
        "```\n",
        "\n",
        "---\n",
        "\n",
        "### 6. What is a string in Python, and how is it different from a list?\n",
        "- A  string  is a sequence of characters (`\"hello\"`)\n",
        "- It is  immutable , unlike a list\n",
        "- Strings only store characters, lists can store any data types\n",
        "\n",
        "---\n",
        "\n",
        "### 7. How do tuples ensure data integrity in Python?\n",
        "Since tuples are  immutable , once data is assigned, it cannot be modified. This protects against accidental changes.\n",
        "\n",
        "---\n",
        "\n",
        "### 8. What is a hash table, and how does it relate to dictionaries in Python?\n",
        "A  hash table  is a data structure that maps keys to values using a hash function. Python's dictionaries are built using hash tables for fast lookup.\n",
        "\n",
        "---\n",
        "\n",
        "### 9. Can lists contain different data types in Python?\n",
        "Yes. Lists in Python can hold mixed data types.\n",
        "```python\n",
        "my_list = [1, \"hello\", 3.14, True]\n",
        "```\n",
        "\n",
        "---\n",
        "\n",
        "### 10. Explain why strings are immutable in Python\n",
        "Strings are immutable for:\n",
        "-  Memory efficiency\n",
        "-  Thread safety -> which avoid any bug to enter unintentionally\n",
        "- simplicity\n",
        "- Reuse in memory due to  interning --> mtlb dobara use krlena use ..hr baar memory na use krna pde.... for that small strings ko generally intern kr liya jata  hai\n",
        "\n",
        "\n",
        "---\n",
        "\n",
        "### 11. What advantages do dictionaries offer over lists for certain tasks?\n",
        "-  Faster lookup  using keys\n",
        "-  Associative storage  (key-value)\n",
        "- Better for modeling real-world data\n",
        "\n",
        "---\n",
        "\n",
        "### 12. Describe a scenario where using a tuple would be preferable over a list\n",
        "Use a tuple when:\n",
        "- You need a  fixed, unchangeable  sequence of values\n",
        "- Example: Storing GPS coordinates (latitude, longitude)\n",
        "\n",
        "---\n",
        "\n",
        "### 13. How do sets handle duplicate values in Python?\n",
        "Sets automatically  remove duplicates .\n",
        "```python\n",
        "set([1, 2, 2, 3])  # {1, 2, 3}\n",
        "```\n",
        "\n",
        "---\n",
        "\n",
        "### 14. How does the “in” keyword work differently for lists and dictionaries?\n",
        "- In  lists : checks values  \n",
        "- In  dicts : checks keys only\n",
        "\n",
        "\n",
        "```python\n",
        "3 in [1, 2, 3]           # True\n",
        "\"name\" in {\"name\": \"A\"}  # True\n",
        "\"A\" in {\"name\": \"A\"}     # False\n",
        "```\n",
        "\n",
        "---\n",
        "\n",
        "### 15. Can you modify the elements of a tuple? Explain why or why not\n",
        "No. Tuples are  immutable , and elements cannot be changed once assigned.\n",
        "\n",
        "---\n",
        "\n",
        "### 16. What is a nested dictionary, and give an example of its use case\n",
        "A dictionary within another dictionary.\n",
        "```python\n",
        "data = {\n",
        "    \"student\": {\"name\": \"Alice\", \"age\": 20},\n",
        "    \"course\": \"Python\"\n",
        "}\n",
        "```\n",
        "\n",
        "---\n",
        "\n",
        "### 17. Describe the time complexity of accessing elements in a dictionary\n",
        "Time complexity:  O(1)  average case due to hashing.\n",
        "\n",
        "---\n",
        "\n",
        "### 18. In what situations are lists preferred over dictionaries?\n",
        "- When order matters\n",
        "- When storing a sequence without named access\n",
        "- Simpler data structures\n",
        "\n",
        "---\n",
        "\n",
        "### 19. Why are dictionaries considered unordered, and how does that affect data retrieval?\n",
        "Before Python 3.7, dictionaries did not preserve insertion order. While now they do, traditionally they're unordered—data retrieval depends on keys, not position.\n",
        "\n",
        "---\n",
        "\n",
        "### 20. Explain the difference between a list and a dictionary in terms of data retrieval.\n",
        "- 1.\tAccess Method:\n",
        "\t  -\tList: Access elements using index (like ->  my_list[0])\n",
        "\t  -\tDictionary: Access values using keys (example -> my_dict['key'])\n",
        "\n",
        "-\t2.\tData Structure:\n",
        "\t  -\tList: Stores items in a sequential order\n",
        "\t  -\tDictionary: Stores data as key-value pairs\n",
        "\n",
        "-\t3.\tOrdering:\n",
        "\t  -\tList: Ordered collection (insertion order is preserved)\n",
        "\t  -\tDictionary: Ordered (since Python 3.7+), but based on keys\n",
        "\n",
        "-\t4.\tIndexing Type:\n",
        "\t  -\tList: Uses integer indices (0, 1, 2, …)\n",
        "\t  -\tDictionary: Uses keys of any hashable type (string, int, tuple, etc.)\n",
        "\n",
        "-\t5.\tDuplicates:\n",
        "\t  -\tList: Allows duplicate elements\n",
        "\t  -\tDictionary: Keys must be unique; values can be duplicates\n",
        "\n",
        "-\t6.\tUse Case:\n",
        "\t  -\tList: Ideal for ordered sequences (eg. items in a queue)\n",
        "\t  -\tDictionary: Best for lookup by identifiers (eg. user info by ID)\n",
        "\n",
        "-\t7.\tTime Complexity:\n",
        "\t  -\tList: O(1) for index access, but O(n) for search\n",
        "\t  -\tDictionary: O(1) average for lookup, insert, delete by key\n"
      ],
      "metadata": {
        "id": "DLoGY9T-TliY"
      }
    },
    {
      "cell_type": "markdown",
      "source": [
        "---\n",
        "#Practical Questions\n",
        "---"
      ],
      "metadata": {
        "id": "MCb_aC6Rb2UY"
      }
    },
    {
      "cell_type": "code",
      "source": [
        "# 1. Create a string with your name and print it\n",
        "name = \"John Doe\"\n",
        "print(name)\n"
      ],
      "metadata": {
        "colab": {
          "base_uri": "https://localhost:8080/"
        },
        "id": "EDP4lQleb0LZ",
        "outputId": "c9af137c-5d43-4405-82b9-d53f0c3f1706"
      },
      "execution_count": 10,
      "outputs": [
        {
          "output_type": "stream",
          "name": "stdout",
          "text": [
            "John Doe\n"
          ]
        }
      ]
    },
    {
      "cell_type": "code",
      "source": [
        "# 2. Find the length of \"Hello World\"\n",
        "print(len(\"Hello World\"))\n"
      ],
      "metadata": {
        "colab": {
          "base_uri": "https://localhost:8080/"
        },
        "id": "2jyz6sa2bzN7",
        "outputId": "91d4cfc9-511c-430c-810f-644310a0ca6d"
      },
      "execution_count": 9,
      "outputs": [
        {
          "output_type": "stream",
          "name": "stdout",
          "text": [
            "11\n"
          ]
        }
      ]
    },
    {
      "cell_type": "code",
      "source": [
        "\n",
        "# 3. Slice first 3 characters from \"Python Programming\"\n",
        "print(\"Python Programming\"[:3])\n",
        "\n"
      ],
      "metadata": {
        "colab": {
          "base_uri": "https://localhost:8080/"
        },
        "id": "3-gqVN9LbyV8",
        "outputId": "1e11ae50-7160-4f2a-f624-688eea09c18f"
      },
      "execution_count": 11,
      "outputs": [
        {
          "output_type": "stream",
          "name": "stdout",
          "text": [
            "Pyt\n"
          ]
        }
      ]
    },
    {
      "cell_type": "code",
      "source": [
        "\n",
        "# 4. Convert \"hello\" to uppercase\n",
        "print(\"hello\".upper())\n",
        "\n"
      ],
      "metadata": {
        "colab": {
          "base_uri": "https://localhost:8080/"
        },
        "id": "ceC07vYebxRM",
        "outputId": "0c189062-a541-4f28-f11b-187f3ebc29b6"
      },
      "execution_count": 12,
      "outputs": [
        {
          "output_type": "stream",
          "name": "stdout",
          "text": [
            "HELLO\n"
          ]
        }
      ]
    },
    {
      "cell_type": "code",
      "source": [
        "# 5. Replace \"apple\" with \"orange\"\n",
        "print(\"I like apple\".replace(\"apple\", \"orange\"))\n"
      ],
      "metadata": {
        "colab": {
          "base_uri": "https://localhost:8080/"
        },
        "id": "xzgCMO8DbwTP",
        "outputId": "e83cd07a-dfdc-44f2-ca94-ebc1eeb30d72"
      },
      "execution_count": 13,
      "outputs": [
        {
          "output_type": "stream",
          "name": "stdout",
          "text": [
            "I like orange\n"
          ]
        }
      ]
    },
    {
      "cell_type": "code",
      "source": [
        "# 6. Create a list with numbers 1 to 5\n",
        "print([1, 2, 3, 4, 5])\n"
      ],
      "metadata": {
        "colab": {
          "base_uri": "https://localhost:8080/"
        },
        "id": "kAt-U01NbvRH",
        "outputId": "0c9ee65a-a61c-465e-cfe3-00e47652da21"
      },
      "execution_count": 14,
      "outputs": [
        {
          "output_type": "stream",
          "name": "stdout",
          "text": [
            "[1, 2, 3, 4, 5]\n"
          ]
        }
      ]
    },
    {
      "cell_type": "code",
      "source": [],
      "metadata": {
        "id": "CzzfXXwHbuRz"
      },
      "execution_count": null,
      "outputs": []
    },
    {
      "cell_type": "code",
      "source": [
        "\n",
        "# 7. Append 10 to the list\n",
        "lst = [1, 2, 3, 4]\n",
        "lst.append(10)\n",
        "print(lst)\n",
        "\n"
      ],
      "metadata": {
        "colab": {
          "base_uri": "https://localhost:8080/"
        },
        "id": "Q0YDj2tdbs5y",
        "outputId": "5f437057-b82c-42c5-9205-2c262d261fa9"
      },
      "execution_count": 15,
      "outputs": [
        {
          "output_type": "stream",
          "name": "stdout",
          "text": [
            "[1, 2, 3, 4, 10]\n"
          ]
        }
      ]
    },
    {
      "cell_type": "code",
      "source": [
        "# 8. Remove 3 from list\n",
        "lst = [1, 2, 3, 4, 5]\n",
        "lst.remove(3)\n",
        "print(lst)\n",
        "#doosra hum element ki location se access krke bhi delete kr skte hai agar us thr krna chahe more specific\n"
      ],
      "metadata": {
        "colab": {
          "base_uri": "https://localhost:8080/"
        },
        "id": "frhN-5Nrbrw3",
        "outputId": "f33b22ed-5405-4eb3-a589-01685ffc2182"
      },
      "execution_count": 16,
      "outputs": [
        {
          "output_type": "stream",
          "name": "stdout",
          "text": [
            "[1, 2, 4, 5]\n"
          ]
        }
      ]
    },
    {
      "cell_type": "code",
      "source": [
        "\n",
        "# 9. Access second element in list\n",
        "print(['a', 'b', 'c', 'd'][1])\n",
        "\n",
        "#yaha pr backward indexing bhi use kr skte hai hum\n"
      ],
      "metadata": {
        "colab": {
          "base_uri": "https://localhost:8080/"
        },
        "id": "SZzYDJ7Cbqqb",
        "outputId": "8680b272-7df2-4831-f3ae-f0ad725abd48"
      },
      "execution_count": 17,
      "outputs": [
        {
          "output_type": "stream",
          "name": "stdout",
          "text": [
            "b\n"
          ]
        }
      ]
    },
    {
      "cell_type": "code",
      "source": [
        "\n",
        "# 10. Reverse list\n",
        "lst = [10, 20, 30, 40, 50]\n",
        "print(lst[::-1])\n",
        "\n",
        "#loop lagakr bhi value change krke reverse kr skte hai hum"
      ],
      "metadata": {
        "colab": {
          "base_uri": "https://localhost:8080/"
        },
        "id": "GGuSQZj6bpZz",
        "outputId": "16ef041a-0c0a-485a-ac99-db8c425ac8f9"
      },
      "execution_count": 18,
      "outputs": [
        {
          "output_type": "stream",
          "name": "stdout",
          "text": [
            "[50, 40, 30, 20, 10]\n"
          ]
        }
      ]
    },
    {
      "cell_type": "code",
      "source": [
        "# 11. Create a tuple (100, 200, 300)\n",
        "tpl = (100, 200, 300)\n",
        "print(tpl)\n",
        "\n"
      ],
      "metadata": {
        "colab": {
          "base_uri": "https://localhost:8080/"
        },
        "id": "gml-J27-bn8i",
        "outputId": "15711ed9-6dbb-423b-93f0-ba303d0319dd"
      },
      "execution_count": 19,
      "outputs": [
        {
          "output_type": "stream",
          "name": "stdout",
          "text": [
            "(100, 200, 300)\n"
          ]
        }
      ]
    },
    {
      "cell_type": "code",
      "source": [
        "\n",
        "# 12. Access second-to-last in tuple\n",
        "colors = ('red', 'green', 'blue', 'yellow')\n",
        "print(colors[-2])\n"
      ],
      "metadata": {
        "colab": {
          "base_uri": "https://localhost:8080/"
        },
        "id": "5xaF6EeqbmwS",
        "outputId": "90132678-6a8a-4b9e-b1ad-7aeb66954212"
      },
      "execution_count": 20,
      "outputs": [
        {
          "output_type": "stream",
          "name": "stdout",
          "text": [
            "blue\n"
          ]
        }
      ]
    },
    {
      "cell_type": "code",
      "source": [
        "# 13. Find minimum in tuple\n",
        "tpl = (10, 20, 5, 15)\n",
        "print(min(tpl))\n"
      ],
      "metadata": {
        "colab": {
          "base_uri": "https://localhost:8080/"
        },
        "id": "Kv3sz0r3blPK",
        "outputId": "21f0f7b0-c78a-45a1-e867-b96fba827a71"
      },
      "execution_count": 21,
      "outputs": [
        {
          "output_type": "stream",
          "name": "stdout",
          "text": [
            "5\n"
          ]
        }
      ]
    },
    {
      "cell_type": "code",
      "source": [
        "# 14. Index of \"cat\"\n",
        "animals = ('dog', 'cat', 'rabbit')\n",
        "print(animals.index(\"cat\"))\n",
        "\n"
      ],
      "metadata": {
        "colab": {
          "base_uri": "https://localhost:8080/"
        },
        "id": "4uDjZUy-bje8",
        "outputId": "93aba989-9cbd-4107-9a90-694b4871ff62"
      },
      "execution_count": 22,
      "outputs": [
        {
          "output_type": "stream",
          "name": "stdout",
          "text": [
            "1\n"
          ]
        }
      ]
    },
    {
      "cell_type": "code",
      "source": [
        "# 15. Check if \"kiwi\" is in fruits\n",
        "fruits = (\"apple\", \"banana\", \"mango\")\n",
        "print(\"kiwi\" in fruits)\n",
        "\n"
      ],
      "metadata": {
        "colab": {
          "base_uri": "https://localhost:8080/"
        },
        "id": "bTNYoHvobiNY",
        "outputId": "2e69d64c-9c35-484c-9da0-7574e4b3d71f"
      },
      "execution_count": 23,
      "outputs": [
        {
          "output_type": "stream",
          "name": "stdout",
          "text": [
            "False\n"
          ]
        }
      ]
    },
    {
      "cell_type": "code",
      "source": [
        "\n",
        "# 16. Create set and print\n",
        "s = {'a', 'b', 'c'}\n",
        "print(s)\n",
        "\n",
        "\n"
      ],
      "metadata": {
        "colab": {
          "base_uri": "https://localhost:8080/"
        },
        "id": "D-V8P1eibg-4",
        "outputId": "715c3cdb-bcf6-4dd8-95f7-e1d5fe27bff7"
      },
      "execution_count": 24,
      "outputs": [
        {
          "output_type": "stream",
          "name": "stdout",
          "text": [
            "{'a', 'b', 'c'}\n"
          ]
        }
      ]
    },
    {
      "cell_type": "code",
      "source": [
        "# 17. Clear set\n",
        "s = {1, 2, 3, 4, 5}\n",
        "s.clear()\n",
        "print(s)\n"
      ],
      "metadata": {
        "colab": {
          "base_uri": "https://localhost:8080/"
        },
        "id": "PVuak95Qbfcl",
        "outputId": "2584f25e-9f25-4e32-b502-114984e5a78c"
      },
      "execution_count": 25,
      "outputs": [
        {
          "output_type": "stream",
          "name": "stdout",
          "text": [
            "set()\n"
          ]
        }
      ]
    },
    {
      "cell_type": "code",
      "source": [
        "# 18. Remove element 4\n",
        "s = {1, 2, 3, 4}\n",
        "s.remove(4)\n",
        "print(s)"
      ],
      "metadata": {
        "colab": {
          "base_uri": "https://localhost:8080/"
        },
        "id": "0s4yJeOMbeHb",
        "outputId": "d08f39aa-39c4-406e-b523-5352891cff09"
      },
      "execution_count": 26,
      "outputs": [
        {
          "output_type": "stream",
          "name": "stdout",
          "text": [
            "{1, 2, 3}\n"
          ]
        }
      ]
    },
    {
      "cell_type": "code",
      "source": [
        "\n",
        "# 19. Union of sets\n",
        "print({1, 2, 3}.union({3, 4, 5}))\n",
        "\n",
        "\n"
      ],
      "metadata": {
        "colab": {
          "base_uri": "https://localhost:8080/"
        },
        "id": "km03ol6ybcWq",
        "outputId": "ad6e2c34-92c6-4575-d41a-bf4c2f2e24fa"
      },
      "execution_count": 27,
      "outputs": [
        {
          "output_type": "stream",
          "name": "stdout",
          "text": [
            "{1, 2, 3, 4, 5}\n"
          ]
        }
      ]
    },
    {
      "cell_type": "code",
      "source": [
        "\n",
        "# 20. Intersection of sets\n",
        "print({1, 2, 3}.intersection({2, 3, 4}))\n"
      ],
      "metadata": {
        "colab": {
          "base_uri": "https://localhost:8080/"
        },
        "id": "Q6uu7GisbbF6",
        "outputId": "3d390ce8-435c-4f05-f8f4-ce0ba090162b"
      },
      "execution_count": 28,
      "outputs": [
        {
          "output_type": "stream",
          "name": "stdout",
          "text": [
            "{2, 3}\n"
          ]
        }
      ]
    },
    {
      "cell_type": "code",
      "source": [
        "# 21. Create dictionary\n",
        "d = {\"name\": \"John\", \"age\": 25, \"city\": \"New York\"}\n",
        "print(d)\n",
        "\n",
        "\n"
      ],
      "metadata": {
        "colab": {
          "base_uri": "https://localhost:8080/"
        },
        "id": "AR43o1lfbZjg",
        "outputId": "a25d3317-473f-4cce-af43-6d7d5b971107"
      },
      "execution_count": 29,
      "outputs": [
        {
          "output_type": "stream",
          "name": "stdout",
          "text": [
            "{'name': 'John', 'age': 25, 'city': 'New York'}\n"
          ]
        }
      ]
    },
    {
      "cell_type": "code",
      "source": [
        "\n",
        "# 22. Add new key-value pair\n",
        "d = {'name': 'John', 'age': 25}\n",
        "d[\"country\"] = \"USA\"\n",
        "print(d)"
      ],
      "metadata": {
        "colab": {
          "base_uri": "https://localhost:8080/"
        },
        "id": "ku1Pdhl0bY1i",
        "outputId": "bd156caa-d9b8-4ac3-d7a7-d09d603e2dad"
      },
      "execution_count": 30,
      "outputs": [
        {
          "output_type": "stream",
          "name": "stdout",
          "text": [
            "{'name': 'John', 'age': 25, 'country': 'USA'}\n"
          ]
        }
      ]
    },
    {
      "cell_type": "code",
      "source": [
        "# 23. Access value of \"name\"\n",
        "dcnary = {'name': 'Alice', 'age': 30}\n",
        "print(dcnary[\"name\"])\n",
        "\n"
      ],
      "metadata": {
        "colab": {
          "base_uri": "https://localhost:8080/"
        },
        "id": "9PqzcT_obJG7",
        "outputId": "b47f6ff3-d11b-4fdc-d728-83b4ace619e5"
      },
      "execution_count": 31,
      "outputs": [
        {
          "output_type": "stream",
          "name": "stdout",
          "text": [
            "Alice\n"
          ]
        }
      ]
    },
    {
      "cell_type": "code",
      "source": [
        "# 24. Remove \"age\" from dict\n",
        "d = {'name': 'Bob', 'age': 22, 'city': 'New York'}\n",
        "del d[\"age\"]\n",
        "print(d)\n",
        "\n"
      ],
      "metadata": {
        "colab": {
          "base_uri": "https://localhost:8080/"
        },
        "id": "SqsARs_5bFtf",
        "outputId": "f547ca86-a59e-4ce7-8701-db1ffc36b01a"
      },
      "execution_count": 32,
      "outputs": [
        {
          "output_type": "stream",
          "name": "stdout",
          "text": [
            "{'name': 'Bob', 'city': 'New York'}\n"
          ]
        }
      ]
    },
    {
      "cell_type": "code",
      "source": [
        "\n",
        "# 25. Check if \"city\" exists\n",
        "print(\"city\" in {'name': 'Alice', 'city': 'Paris'}) #ye hume return krega true ya false me value\n",
        "\n"
      ],
      "metadata": {
        "colab": {
          "base_uri": "https://localhost:8080/"
        },
        "id": "jrzCh-n3bD6W",
        "outputId": "78101aa5-4219-4910-dcf9-47c558de0974"
      },
      "execution_count": 33,
      "outputs": [
        {
          "output_type": "stream",
          "name": "stdout",
          "text": [
            "True\n"
          ]
        }
      ]
    },
    {
      "cell_type": "code",
      "source": [
        "\n",
        "# 26. Create and print list, tuple, dict\n",
        "print([1, 2, 3], (4, 5, 6), {\"a\": 1, \"b\": 2})\n",
        "\n",
        "\n"
      ],
      "metadata": {
        "colab": {
          "base_uri": "https://localhost:8080/"
        },
        "id": "GXl8D_xKbB9Z",
        "outputId": "d98b33b0-c68e-4392-9715-e3c0b6a7f9fb"
      },
      "execution_count": 34,
      "outputs": [
        {
          "output_type": "stream",
          "name": "stdout",
          "text": [
            "[1, 2, 3] (4, 5, 6) {'a': 1, 'b': 2}\n"
          ]
        }
      ]
    },
    {
      "cell_type": "code",
      "source": [
        "# 27. Random list of 5 numbers, sort it\n",
        "import random\n",
        "lst = random.sample(range(1, 101), 5)\n",
        "lst.sort()\n",
        "print(lst)\n"
      ],
      "metadata": {
        "colab": {
          "base_uri": "https://localhost:8080/"
        },
        "id": "gUAZ7RMUbASY",
        "outputId": "1a51efe8-e5a9-4f2a-c3ff-954f655576fe"
      },
      "execution_count": 35,
      "outputs": [
        {
          "output_type": "stream",
          "name": "stdout",
          "text": [
            "[1, 71, 84, 95, 99]\n"
          ]
        }
      ]
    },
    {
      "cell_type": "code",
      "source": [
        "# 28. List with strings, print 3rd index\n",
        "lst = [\"a\", \"b\", \"c\", \"d\", \"e\"]\n",
        "print(lst[3])"
      ],
      "metadata": {
        "colab": {
          "base_uri": "https://localhost:8080/"
        },
        "id": "Svs3cqyQa_kC",
        "outputId": "309c5ad2-8854-4e89-c77b-ceebb8be8311"
      },
      "execution_count": 36,
      "outputs": [
        {
          "output_type": "stream",
          "name": "stdout",
          "text": [
            "d\n"
          ]
        }
      ]
    },
    {
      "cell_type": "code",
      "source": [
        "# 29. Combine two dictionaries\n",
        "a = {\"x\": 1}\n",
        "b = {\"y\": 2}\n",
        "c =  a|b\n",
        "print(c)"
      ],
      "metadata": {
        "colab": {
          "base_uri": "https://localhost:8080/"
        },
        "id": "oqSaOTgIaxSB",
        "outputId": "3c6abfd1-c29d-4073-e48e-225d308a5bab"
      },
      "execution_count": 37,
      "outputs": [
        {
          "output_type": "stream",
          "name": "stdout",
          "text": [
            "{'x': 1, 'y': 2}\n"
          ]
        }
      ]
    },
    {
      "cell_type": "code",
      "source": [
        "\n",
        "# 30. Convert list of strings to set\n",
        "print(set([\"apple\", \"banana\", \"cherry\"]))"
      ],
      "metadata": {
        "colab": {
          "base_uri": "https://localhost:8080/"
        },
        "id": "j872-CazaoF9",
        "outputId": "6e14e865-1992-43df-deb7-837336e4dfc6"
      },
      "execution_count": 7,
      "outputs": [
        {
          "output_type": "stream",
          "name": "stdout",
          "text": [
            "{'apple', 'cherry', 'banana'}\n"
          ]
        }
      ]
    },
    {
      "cell_type": "code",
      "source": [],
      "metadata": {
        "id": "H-ThfCRJath0"
      },
      "execution_count": null,
      "outputs": []
    }
  ]
}