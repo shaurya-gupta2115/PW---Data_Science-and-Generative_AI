{
  "nbformat": 4,
  "nbformat_minor": 0,
  "metadata": {
    "colab": {
      "provenance": []
    },
    "kernelspec": {
      "name": "python3",
      "display_name": "Python 3"
    },
    "language_info": {
      "name": "python"
    }
  },
  "cells": [
    {
      "cell_type": "code",
      "execution_count": null,
      "metadata": {
        "id": "B0-R6GolCB8P"
      },
      "outputs": [],
      "source": []
    },
    {
      "cell_type": "markdown",
      "source": [
        "# OOP ASSIGNMENT  \n",
        "\n",
        "\n",
        "\n",
        "\n"
      ],
      "metadata": {
        "id": "htqgmEJRVp_o"
      }
    },
    {
      "cell_type": "markdown",
      "source": [
        "**Theory questions**"
      ],
      "metadata": {
        "id": "KMwMzeOmV2r4"
      }
    },
    {
      "cell_type": "markdown",
      "source": [
        "1. What is Object-Oriented Programming (OOP)?\n",
        "-\n",
        "Object-Oriented Programming (OOP) is a way of writing code where we think in terms of \"objects\" — just like things in real life. These objects have data (called attributes) and behaviors (called methods). The goal is to make the code more organized, reusable, and easier to manage. OOP is based on four main concepts: Encapsulation, Abstraction, Inheritance, and Polymorphism.\n",
        "\n",
        "2. What is a class in OOP?\n",
        "-\n",
        "A class is like a blueprint or template for creating objects. It defines what data (attributes) and actions (methods) an object will have. For example, if we create a class called Car, we can define that every car will have a color, speed, and methods like drive() or brake(). But the class itself doesn’t do anything until we create objects from it.\n",
        "\n",
        "3. What is an object in OOP?\n",
        "-\n",
        "An object is an actual instance of a class. It holds real data and can perform actions. If Car is a class, then my_car = Car() creates an object. Now, my_car will have its own values for color, speed, etc., and can use the class methods. Each object can have different data but shares the same structure from the class.\n",
        "\n",
        "4. What is the difference between abstraction and encapsulation?\n",
        "\n",
        "-\n",
        "Abstraction means showing only the essential details and hiding the complex background. Like when we use a phone, we just tap the screen — we don’t know (or need to know) how it works internally.\n",
        "\n",
        "Encapsulation means wrapping the data and the methods that operate on it inside a class. It protects the data from outside interference. In Python, we use private variables (with __) to achieve this.\n",
        "\n",
        "5. What are dunder methods in Python?\n",
        "- Dunder methods (short for “double underscore”) are special methods in Python. They have names like __init__, __str__, __len__, etc. These methods define how objects behave in specific situations. For example, __init__ is called when we create an object, and __str__ defines what to show when we print the object. These methods are also called “magic methods.”\n",
        "\n",
        "6. Explain the concept of inheritance in OOP\n",
        "-\n",
        "Inheritance allows one class (child class) to take features from another class (parent class). This helps in reusing code. The child class gets access to all the attributes and methods of the parent class without rewriting them. For example, if we have a Vehicle class and a Bike class inherits from it, Bike automatically has all the features of Vehicle.\n",
        "\n",
        "7. What is polymorphism in OOP?\n",
        "-\n",
        "Polymorphism means “many forms.” In OOP, it allows methods to do different things depending on the object. For example, the + operator can add numbers or join strings — that's polymorphism. It can also mean that a method with the same name behaves differently in different classes. It makes code flexible and more dynamic.\n",
        "\n",
        "8. How is encapsulation achieved in Python?\n",
        "-\n",
        "In Python, encapsulation is done by using classes and hiding data using private variables. We use __ before a variable name to make it private. To access or modify these values, we define getter and setter methods. This keeps the internal data safe and controlled."
      ],
      "metadata": {
        "id": "S_GTL8gFK4uX"
      }
    },
    {
      "cell_type": "code",
      "source": [
        "class Student:\n",
        "    def __init__(self):\n",
        "        self.__marks = 0\n",
        "\n",
        "    def set_marks(self, m):\n",
        "        self.__marks = m\n",
        "\n",
        "    def get_marks(self):\n",
        "        return self.__marks\n"
      ],
      "metadata": {
        "id": "yvP9ztf5LeU1"
      },
      "execution_count": 1,
      "outputs": []
    },
    {
      "cell_type": "markdown",
      "source": [
        "9. What is a constructor in Python?\n",
        "-\n",
        "A constructor is a special method that is automatically called when an object is created. In Python, it is written as __init__(). It is used to initialize the object's attributes with default or given values."
      ],
      "metadata": {
        "id": "voaNh6zoLrBB"
      }
    },
    {
      "cell_type": "code",
      "source": [
        "class Student:\n",
        "    def __init__(self, name):\n",
        "        self.name = name\n"
      ],
      "metadata": {
        "id": "yJ8ET_WdLyX5"
      },
      "execution_count": 2,
      "outputs": []
    },
    {
      "cell_type": "markdown",
      "source": [
        "10. What are class and static methods in Python?\n",
        "\n",
        "-\n",
        "Class method is a method that works with the class itself, not just the object. We use @classmethod and cls as the first argument.\n",
        "\n",
        "Static method does not depend on class or object. It is used when the method doesn’t need to access class or instance data. We use @staticmethod for this"
      ],
      "metadata": {
        "id": "umloMcKTL4sd"
      }
    },
    {
      "cell_type": "code",
      "source": [
        "class Example:\n",
        "    @classmethod\n",
        "    def show_class(cls):\n",
        "        print(\"This is a class method\")\n",
        "\n",
        "    @staticmethod\n",
        "    def show_static():\n",
        "        print(\"This is a static method\")\n"
      ],
      "metadata": {
        "id": "diNIhJe2L_5n"
      },
      "execution_count": 3,
      "outputs": []
    },
    {
      "cell_type": "markdown",
      "source": [
        "11. What is method overloading in Python?\n",
        "-\n",
        "Technically, Python does not support method overloading like some other languages (e.g., Java). But we can achieve similar behavior by giving default values to function parameters or by using *args and **kwargs. So, we can write one method that behaves differently based on the number or type of arguments passed."
      ],
      "metadata": {
        "id": "7Nrp8K-7MGoy"
      }
    },
    {
      "cell_type": "code",
      "source": [
        "class Greet:\n",
        "    def hello(self, name=None):\n",
        "        if name:\n",
        "            print(f\"Hello, {name}!\")\n",
        "        else:\n",
        "            print(\"Hello!\")\n"
      ],
      "metadata": {
        "id": "OS95wsH2MxxJ"
      },
      "execution_count": 4,
      "outputs": []
    },
    {
      "cell_type": "markdown",
      "source": [
        "12. What is method overriding in OOP?\n",
        "-\n",
        "Method overriding happens when a child class defines a method with the same name as a method in its parent class. The child class version replaces (or overrides) the parent class version when the method is called using a child class object."
      ],
      "metadata": {
        "id": "E2fagI2RM3Ib"
      }
    },
    {
      "cell_type": "code",
      "source": [
        "class Parent:\n",
        "    def greet(self):\n",
        "        print(\"Hello from Parent\")\n",
        "\n",
        "class Child(Parent):\n",
        "    def greet(self):\n",
        "        print(\"Hello from Child\")\n"
      ],
      "metadata": {
        "id": "Ti7WIg6rM87Z"
      },
      "execution_count": 5,
      "outputs": []
    },
    {
      "cell_type": "markdown",
      "source": [
        "13. What is a property decorator in Python?\n",
        "-\n",
        "The @property decorator is used to define a method that acts like an attribute. It allows us to access a method like it's a variable without using parentheses. It's helpful for getters and makes code cleaner."
      ],
      "metadata": {
        "id": "GRCLvPyTNBOM"
      }
    },
    {
      "cell_type": "code",
      "source": [
        "class Circle:\n",
        "    def __init__(self, radius):\n",
        "        self._radius = radius\n",
        "\n",
        "    @property\n",
        "    def area(self):\n",
        "        return 3.14 * self._radius ** 2\n"
      ],
      "metadata": {
        "id": "zb-_TT9PNMEa"
      },
      "execution_count": 6,
      "outputs": []
    },
    {
      "cell_type": "markdown",
      "source": [
        "14. Why is polymorphism important in OOP?\n",
        "-\n",
        "Polymorphism makes the code flexible and reusable. It allows the same method or operator to behave differently based on the context or object. This means we can write code that works with different types of objects without changing its structure. It’s super useful when working with inheritance.\n",
        "\n",
        "15. What is an abstract class in Python?\n",
        "-\n",
        "An abstract class is a class that cannot be instantiated directly. It’s meant to be inherited and forces child classes to implement certain methods. We use the abc module and @abstractmethod decorator to create abstract classes in Python."
      ],
      "metadata": {
        "id": "W32Q5ZMJNPDu"
      }
    },
    {
      "cell_type": "code",
      "source": [
        "from abc import ABC, abstractmethod\n",
        "\n",
        "class Animal(ABC):\n",
        "    @abstractmethod\n",
        "    def sound(self):\n",
        "        pass\n"
      ],
      "metadata": {
        "id": "jDutwAsdNZwr"
      },
      "execution_count": 7,
      "outputs": []
    },
    {
      "cell_type": "markdown",
      "source": [
        "16. What are the advantages of OOP?\n",
        "\n",
        "-\n",
        "Code Reusability through inheritance\n",
        "\n",
        "-\n",
        "Better structure and organization using classes and objects\n",
        "\n",
        "-\n",
        "Easier to debug and maintain\n",
        "\n",
        "-\n",
        "Promotes real-world thinking in code\n",
        "\n",
        "-\n",
        "Supports modular and scalable design\n",
        "\n",
        "17. What is the difference between a class variable and an instance variable?\n",
        "\n",
        "-\n",
        "Class variable is shared by all objects of a class. It is defined directly in the class.\n",
        "\n",
        "-\n",
        "Instance variable is unique to each object and defined inside the constructor using self."
      ],
      "metadata": {
        "id": "o40QcbJ8N4Kv"
      }
    },
    {
      "cell_type": "code",
      "source": [
        "class Student:\n",
        "    school_name = \"ABC School\"  # class variable\n",
        "\n",
        "    def __init__(self, name):\n",
        "        self.name = name  # instance variable\n"
      ],
      "metadata": {
        "id": "4uHpIV75OJiV"
      },
      "execution_count": 8,
      "outputs": []
    },
    {
      "cell_type": "markdown",
      "source": [
        "18. What is multiple inheritance in Python?\n",
        "-\n",
        "Multiple inheritance means a class can inherit from more than one parent class. Python supports this directly. It allows a child class to use methods and attributes from all its parent classes."
      ],
      "metadata": {
        "id": "w_COTv9VOOnT"
      }
    },
    {
      "cell_type": "code",
      "source": [
        "class A:\n",
        "    def show(self):\n",
        "        print(\"A\")\n",
        "\n",
        "class B:\n",
        "    def display(self):\n",
        "        print(\"B\")\n",
        "\n",
        "class C(A, B):\n",
        "    pass\n"
      ],
      "metadata": {
        "id": "tla9bU0TOUvs"
      },
      "execution_count": 9,
      "outputs": []
    },
    {
      "cell_type": "markdown",
      "source": [
        "19. Explain the purpose of __str__ and __repr__ methods in Python.\n",
        "\n",
        "-\n",
        "__str__() defines what should be shown when the object is printed using print(). It's meant to be user-friendly.\n",
        "\n",
        "-\n",
        "__repr__() is more for developers and debugging. It returns an official string representation of the object."
      ],
      "metadata": {
        "id": "ZXTg0oJ1OYln"
      }
    },
    {
      "cell_type": "code",
      "source": [
        "class Student:\n",
        "    def __str__(self):\n",
        "        return \"Student object\"\n",
        "\n",
        "    def __repr__(self):\n",
        "        return \"Student()\"\n"
      ],
      "metadata": {
        "id": "51zKrEiaOfo0"
      },
      "execution_count": 10,
      "outputs": []
    },
    {
      "cell_type": "markdown",
      "source": [
        "20. What is the significance of the super() function in Python?\n",
        "-\n",
        "The super() function is used in inheritance to call methods from the parent class. It helps avoid directly naming the parent class and supports better code maintenance, especially in multiple inheritance."
      ],
      "metadata": {
        "id": "MEAxTARLOjX2"
      }
    },
    {
      "cell_type": "code",
      "source": [
        "class Parent:\n",
        "    def greet(self):\n",
        "        print(\"Hi from parent\")\n",
        "\n",
        "class Child(Parent):\n",
        "    def greet(self):\n",
        "        super().greet()\n",
        "        print(\"Hi from child\")\n"
      ],
      "metadata": {
        "id": "Ccboi46EOpfS"
      },
      "execution_count": 11,
      "outputs": []
    },
    {
      "cell_type": "markdown",
      "source": [
        "21. What is the significance of the __del__ method in Python?\n",
        "-\n",
        "The __del__() method is called when an object is deleted or goes out of scope. It acts like a destructor and is mainly used to clean up resources (like closing files or connections)."
      ],
      "metadata": {
        "id": "pBO5NYkyOyD5"
      }
    },
    {
      "cell_type": "code",
      "source": [
        "class Sample:\n",
        "    def __del__(self):\n",
        "        print(\"Object destroyed\")\n"
      ],
      "metadata": {
        "id": "EZwod_IYO35j"
      },
      "execution_count": 12,
      "outputs": []
    },
    {
      "cell_type": "markdown",
      "source": [
        "22. What is the difference between @staticmethod and @classmethod in Python?\n",
        "\n",
        "-\n",
        "@staticmethod: Doesn’t need class or object reference. Just like a normal function inside a class.\n",
        "\n",
        "-\n",
        "@classmethod: Receives the class (cls) as its first argument. It can access or modify class-level data."
      ],
      "metadata": {
        "id": "D3rze6TRO8bs"
      }
    },
    {
      "cell_type": "code",
      "source": [
        "class Test:\n",
        "    @staticmethod\n",
        "    def show():\n",
        "        print(\"Static method\")\n",
        "\n",
        "    @classmethod\n",
        "    def show_cls(cls):\n",
        "        print(\"Class method\")\n"
      ],
      "metadata": {
        "id": "J2mEKPE6PMTJ"
      },
      "execution_count": 13,
      "outputs": []
    },
    {
      "cell_type": "markdown",
      "source": [
        "23. How does polymorphism work in Python with inheritance?\n",
        "-\n",
        "When child classes override methods from a parent class, and we treat different objects the same way using those methods, that’s polymorphism. We can loop through a list of different class objects and call the same method on each."
      ],
      "metadata": {
        "id": "bfVipgBkPQKN"
      }
    },
    {
      "cell_type": "code",
      "source": [
        "class Dog:\n",
        "    def speak(self):\n",
        "        print(\"Bark\")\n",
        "\n",
        "class Cat:\n",
        "    def speak(self):\n",
        "        print(\"Meow\")\n",
        "\n",
        "for animal in [Dog(), Cat()]:\n",
        "    animal.speak()\n"
      ],
      "metadata": {
        "colab": {
          "base_uri": "https://localhost:8080/"
        },
        "id": "YcOKstNbPW_P",
        "outputId": "2927ec8e-2913-416d-dc0f-76ac00f90a93"
      },
      "execution_count": 14,
      "outputs": [
        {
          "output_type": "stream",
          "name": "stdout",
          "text": [
            "Bark\n",
            "Meow\n"
          ]
        }
      ]
    },
    {
      "cell_type": "markdown",
      "source": [
        "24. What is method chaining in Python OOP?\n",
        "-\n",
        "Method chaining means calling multiple methods one after another in a single line using the dot (.) operator. For this to work, each method should return self."
      ],
      "metadata": {
        "id": "YdxIW-ZwPdYZ"
      }
    },
    {
      "cell_type": "code",
      "source": [
        "class Person:\n",
        "    def set_name(self, name):\n",
        "        self.name = name\n",
        "        return self\n",
        "\n",
        "    def set_age(self, age):\n",
        "        self.age = age\n",
        "        return self\n",
        "\n",
        "p = Person().set_name(\"Shaurya\").set_age(21)\n"
      ],
      "metadata": {
        "id": "39zhnovLPzGW"
      },
      "execution_count": 15,
      "outputs": []
    },
    {
      "cell_type": "markdown",
      "source": [
        "25. What is the purpose of the __call__ method in Python?\n",
        "-\n",
        "The __call__ method makes an object behave like a function. If a class has a __call__ method, its object can be called using () like a normal function."
      ],
      "metadata": {
        "id": "xmsByNBHP50o"
      }
    },
    {
      "cell_type": "code",
      "source": [
        "class Greet:\n",
        "    def __call__(self, name):\n",
        "        print(f\"Hi {name}, from Sanskriti and Shaurya!\")\n",
        "\n",
        "g = Greet()\n",
        "g(\"Teacher\")\n"
      ],
      "metadata": {
        "colab": {
          "base_uri": "https://localhost:8080/"
        },
        "id": "usROtwbyQA_J",
        "outputId": "dcafb97f-74fc-4c53-d1fc-bb2c1b2bb4c6"
      },
      "execution_count": 16,
      "outputs": [
        {
          "output_type": "stream",
          "name": "stdout",
          "text": [
            "Hi Teacher, from Sanskriti and Shaurya!\n"
          ]
        }
      ]
    },
    {
      "cell_type": "markdown",
      "source": [
        "**Practical questions**"
      ],
      "metadata": {
        "id": "5r08V1k-WK1u"
      }
    },
    {
      "cell_type": "markdown",
      "source": [
        "1. Create a parent class Animal with a method speak() that prints a generic message. Create a child class Dog\n",
        "that overrides the speak() method to print \"Bark!\"."
      ],
      "metadata": {
        "id": "pWbFKL4nQKYe"
      }
    },
    {
      "cell_type": "code",
      "source": [
        "class Animal:\n",
        "    def speak(self):\n",
        "        print(\"The animal makes a sound\")\n",
        "\n",
        "class Dog(Animal):\n",
        "    def speak(self):\n",
        "        print(\"Bark!\")\n",
        "\n",
        "# Example\n",
        "a = Animal()\n",
        "a.speak()\n",
        "\n",
        "d = Dog()\n",
        "d.speak()\n"
      ],
      "metadata": {
        "colab": {
          "base_uri": "https://localhost:8080/"
        },
        "id": "M1fc8VO3RMeK",
        "outputId": "c25dccf6-b8ae-4be6-95ed-81e7715fae37"
      },
      "execution_count": 17,
      "outputs": [
        {
          "output_type": "stream",
          "name": "stdout",
          "text": [
            "The animal makes a sound\n",
            "Bark!\n"
          ]
        }
      ]
    },
    {
      "cell_type": "markdown",
      "source": [
        "2. Write a program to create an abstract class Shape with a method area(). Derive classes Circle and Rectangle\n",
        "from it and implement the area() method in both."
      ],
      "metadata": {
        "id": "UyyHR-61RQhO"
      }
    },
    {
      "cell_type": "code",
      "source": [
        "from abc import ABC, abstractmethod\n",
        "\n",
        "class Shape(ABC):\n",
        "    @abstractmethod\n",
        "    def area(self):\n",
        "        pass\n",
        "\n",
        "class Circle(Shape):\n",
        "    def __init__(self, radius):\n",
        "        self.radius = radius\n",
        "\n",
        "    def area(self):\n",
        "        return 3.14 * self.radius ** 2\n",
        "\n",
        "class Rectangle(Shape):\n",
        "    def __init__(self, length, width):\n",
        "        self.length = length\n",
        "        self.width = width\n",
        "\n",
        "    def area(self):\n",
        "        return self.length * self.width\n",
        "\n",
        "# Example\n",
        "c = Circle(5)\n",
        "print(\"Circle Area:\", c.area())\n",
        "\n",
        "r = Rectangle(4, 6)\n",
        "print(\"Rectangle Area:\", r.area())\n"
      ],
      "metadata": {
        "colab": {
          "base_uri": "https://localhost:8080/"
        },
        "id": "5IUxCrBRRWVH",
        "outputId": "7ec28463-970f-412d-c1a2-8f36e5b22f1d"
      },
      "execution_count": 18,
      "outputs": [
        {
          "output_type": "stream",
          "name": "stdout",
          "text": [
            "Circle Area: 78.5\n",
            "Rectangle Area: 24\n"
          ]
        }
      ]
    },
    {
      "cell_type": "markdown",
      "source": [
        "3. Implement a multi-level inheritance scenario where a class Vehicle has an attribute type. Derive a class Car\n",
        "and further derive a class ElectricCar that adds a battery attribute"
      ],
      "metadata": {
        "id": "vvFiEkaCRcRG"
      }
    },
    {
      "cell_type": "code",
      "source": [
        "class Vehicle:\n",
        "    def __init__(self, type):\n",
        "        self.type = type\n",
        "\n",
        "class Car(Vehicle):\n",
        "    def __init__(self, type, brand):\n",
        "        super().__init__(type)\n",
        "        self.brand = brand\n",
        "\n",
        "class ElectricCar(Car):\n",
        "    def __init__(self, type, brand, battery):\n",
        "        super().__init__(type, brand)\n",
        "        self.battery = battery\n",
        "\n",
        "# Example\n",
        "e = ElectricCar(\"Electric\", \"Tesla\", \"100 kWh\")\n",
        "print(e.type, e.brand, e.battery)\n"
      ],
      "metadata": {
        "colab": {
          "base_uri": "https://localhost:8080/"
        },
        "id": "URUIyaBORm_C",
        "outputId": "c2eb33ff-5f72-4e9f-b0ad-6516b66aaa6a"
      },
      "execution_count": 19,
      "outputs": [
        {
          "output_type": "stream",
          "name": "stdout",
          "text": [
            "Electric Tesla 100 kWh\n"
          ]
        }
      ]
    },
    {
      "cell_type": "markdown",
      "source": [
        "4. Demonstrate polymorphism by creating a base class Bird with a method fly(). Create two derived classes\n",
        "Sparrow and Penguin that override the fly() method.\n"
      ],
      "metadata": {
        "id": "boBlENBtR63o"
      }
    },
    {
      "cell_type": "code",
      "source": [
        "class Bird:\n",
        "    def fly(self):\n",
        "        print(\"Some birds can fly.\")\n",
        "\n",
        "class Sparrow(Bird):\n",
        "    def fly(self):\n",
        "        print(\"Sparrow flies high.\")\n",
        "\n",
        "class Penguin(Bird):\n",
        "    def fly(self):\n",
        "        print(\"Penguins cannot fly.\")\n",
        "\n",
        "# Example\n",
        "for bird in [Sparrow(), Penguin()]:\n",
        "    bird.fly()\n"
      ],
      "metadata": {
        "colab": {
          "base_uri": "https://localhost:8080/"
        },
        "id": "26VGzHCUR_Jx",
        "outputId": "4e692117-a42b-4a73-860e-c0bf6cde7da4"
      },
      "execution_count": 20,
      "outputs": [
        {
          "output_type": "stream",
          "name": "stdout",
          "text": [
            "Sparrow flies high.\n",
            "Penguins cannot fly.\n"
          ]
        }
      ]
    },
    {
      "cell_type": "markdown",
      "source": [
        "5. Write a program to demonstrate encapsulation by creating a class BankAccount with private attributes\n",
        "balance and methods to deposit, withdraw, and check balance"
      ],
      "metadata": {
        "id": "rq_rD893SDqt"
      }
    },
    {
      "cell_type": "code",
      "source": [
        "class BankAccount:\n",
        "    def __init__(self):\n",
        "        self.__balance = 0  # private variable\n",
        "\n",
        "    def deposit(self, amount):\n",
        "        if amount > 0:\n",
        "            self.__balance += amount\n",
        "\n",
        "    def withdraw(self, amount):\n",
        "        if 0 < amount <= self.__balance:\n",
        "            self.__balance -= amount\n",
        "\n",
        "    def check_balance(self):\n",
        "        return self.__balance\n",
        "\n",
        "# Example\n",
        "acc = BankAccount()\n",
        "acc.deposit(1000)\n",
        "acc.withdraw(300)\n",
        "print(\"Current Balance:\", acc.check_balance())\n"
      ],
      "metadata": {
        "colab": {
          "base_uri": "https://localhost:8080/"
        },
        "id": "Zybn7wyPSLqS",
        "outputId": "adffbf15-6a00-44b7-fcc6-bbf8518c7b2f"
      },
      "execution_count": 21,
      "outputs": [
        {
          "output_type": "stream",
          "name": "stdout",
          "text": [
            "Current Balance: 700\n"
          ]
        }
      ]
    },
    {
      "cell_type": "markdown",
      "source": [
        "6. Demonstrate runtime polymorphism using a method play() in a base class Instrument. Derive classes Guitar\n",
        "and Piano that implement their own version of play()."
      ],
      "metadata": {
        "id": "KIaS8Yw_SRn1"
      }
    },
    {
      "cell_type": "code",
      "source": [
        "class Instrument:\n",
        "    def play(self):\n",
        "        print(\"Instrument is playing\")\n",
        "\n",
        "class Guitar(Instrument):\n",
        "    def play(self):\n",
        "        print(\"Guitar is strumming\")\n",
        "\n",
        "class Piano(Instrument):\n",
        "    def play(self):\n",
        "        print(\"Piano is playing\")\n",
        "\n",
        "# Example\n",
        "for i in [Guitar(), Piano()]:\n",
        "    i.play()\n"
      ],
      "metadata": {
        "colab": {
          "base_uri": "https://localhost:8080/"
        },
        "id": "nbVKFU3MSefc",
        "outputId": "35660fa5-e339-4867-d0ce-be0d5077f0ee"
      },
      "execution_count": 22,
      "outputs": [
        {
          "output_type": "stream",
          "name": "stdout",
          "text": [
            "Guitar is strumming\n",
            "Piano is playing\n"
          ]
        }
      ]
    },
    {
      "cell_type": "markdown",
      "source": [
        "7. Create a class MathOperations with a class method add_numbers() to add two numbers and a static\n",
        "method subtract_numbers() to subtract two numbers"
      ],
      "metadata": {
        "id": "heN2maFcSpkc"
      }
    },
    {
      "cell_type": "code",
      "source": [
        "class MathOperations:\n",
        "    @classmethod\n",
        "    def add_numbers(cls, a, b):\n",
        "        return a + b\n",
        "\n",
        "    @staticmethod\n",
        "    def subtract_numbers(a, b):\n",
        "        return a - b\n",
        "\n",
        "# Example\n",
        "print(\"Addition:\", MathOperations.add_numbers(10, 5))\n",
        "print(\"Subtraction:\", MathOperations.subtract_numbers(10, 5))\n"
      ],
      "metadata": {
        "colab": {
          "base_uri": "https://localhost:8080/"
        },
        "id": "CcO3rZj-S1o7",
        "outputId": "03a501b4-937d-45a2-e36c-2404861a699e"
      },
      "execution_count": 23,
      "outputs": [
        {
          "output_type": "stream",
          "name": "stdout",
          "text": [
            "Addition: 15\n",
            "Subtraction: 5\n"
          ]
        }
      ]
    },
    {
      "cell_type": "markdown",
      "source": [
        "8. Implement a class Person with a class method to count the total number of persons created."
      ],
      "metadata": {
        "id": "IF0pmWokS-mc"
      }
    },
    {
      "cell_type": "code",
      "source": [
        "class Person:\n",
        "    count = 0  # class variable\n",
        "\n",
        "    def __init__(self, name):\n",
        "        self.name = name\n",
        "        Person.count += 1\n",
        "\n",
        "    @classmethod\n",
        "    def total_persons(cls):\n",
        "        return cls.count\n",
        "\n",
        "# Example\n",
        "p1 = Person(\"Sanskriti\")\n",
        "p2 = Person(\"Shaurya\")\n",
        "print(\"Total Persons:\", Person.total_persons())\n"
      ],
      "metadata": {
        "colab": {
          "base_uri": "https://localhost:8080/"
        },
        "id": "-bFB1P7RTdmf",
        "outputId": "2ca6b53c-65d2-4112-e290-56b25b6128ce"
      },
      "execution_count": 24,
      "outputs": [
        {
          "output_type": "stream",
          "name": "stdout",
          "text": [
            "Total Persons: 2\n"
          ]
        }
      ]
    },
    {
      "cell_type": "markdown",
      "source": [
        "9. Write a class Fraction with attributes numerator and denominator. Override the str method to display the\n",
        "fraction as \"numerator/denominator\"."
      ],
      "metadata": {
        "id": "K1eFzNZzTmfa"
      }
    },
    {
      "cell_type": "code",
      "source": [
        "class Fraction:\n",
        "    def __init__(self, num, den):\n",
        "        self.numerator = num\n",
        "        self.denominator = den\n",
        "\n",
        "    def __str__(self):\n",
        "        return f\"{self.numerator}/{self.denominator}\"\n",
        "\n",
        "# Example\n",
        "f = Fraction(3, 4)\n",
        "print(\"Fraction is:\", f)\n"
      ],
      "metadata": {
        "colab": {
          "base_uri": "https://localhost:8080/"
        },
        "id": "rAOvQLSGTuWR",
        "outputId": "6f5fb961-6426-4f5d-bce9-8bb1d6ffadc0"
      },
      "execution_count": 25,
      "outputs": [
        {
          "output_type": "stream",
          "name": "stdout",
          "text": [
            "Fraction is: 3/4\n"
          ]
        }
      ]
    },
    {
      "cell_type": "markdown",
      "source": [
        "10. Demonstrate operator overloading by creating a class Vector and overriding the add method to add two\n",
        "vectors."
      ],
      "metadata": {
        "id": "xoaTNXvRT03P"
      }
    },
    {
      "cell_type": "code",
      "source": [
        "class Vector:\n",
        "    def __init__(self, x, y):\n",
        "        self.x = x\n",
        "        self.y = y\n",
        "\n",
        "    def __add__(self, other):\n",
        "        return Vector(self.x + other.x, self.y + other.y)\n",
        "\n",
        "    def __str__(self):\n",
        "        return f\"({self.x}, {self.y})\"\n",
        "\n",
        "# Example\n",
        "v1 = Vector(2, 3)\n",
        "v2 = Vector(4, 1)\n",
        "v3 = v1 + v2\n",
        "print(\"Resultant Vector:\", v3)\n"
      ],
      "metadata": {
        "colab": {
          "base_uri": "https://localhost:8080/"
        },
        "id": "QOEa9VQcT4iE",
        "outputId": "58c9542d-5b0c-4f18-9280-b6a6bae71b72"
      },
      "execution_count": 26,
      "outputs": [
        {
          "output_type": "stream",
          "name": "stdout",
          "text": [
            "Resultant Vector: (6, 4)\n"
          ]
        }
      ]
    },
    {
      "cell_type": "markdown",
      "source": [
        "11. Create a class Person with attributes name and age. Add a method greet() that prints \"Hello, my name is\n",
        "{name} and I am {age} years old.\""
      ],
      "metadata": {
        "id": "mSJrjvVsUAZj"
      }
    },
    {
      "cell_type": "code",
      "source": [
        "class Person:\n",
        "    def __init__(self, name, age):\n",
        "        self.name = name\n",
        "        self.age = age\n",
        "\n",
        "    def greet(self):\n",
        "        print(f\"Hello, my name is {self.name} and I am {self.age} years old.\")\n",
        "\n",
        "# Example\n",
        "p = Person(\"Sanskriti\", 21)\n",
        "p.greet()\n"
      ],
      "metadata": {
        "colab": {
          "base_uri": "https://localhost:8080/"
        },
        "id": "pWJyqhm5UZVW",
        "outputId": "12199a5d-d39e-4cac-e4e3-b120af335b32"
      },
      "execution_count": 27,
      "outputs": [
        {
          "output_type": "stream",
          "name": "stdout",
          "text": [
            "Hello, my name is Sanskriti and I am 21 years old.\n"
          ]
        }
      ]
    },
    {
      "cell_type": "markdown",
      "source": [
        "12. Implement a class Student with attributes name and grades. Create a method average_grade() to compute\n",
        "the average of the grades"
      ],
      "metadata": {
        "id": "-gYLcZPTUdXN"
      }
    },
    {
      "cell_type": "code",
      "source": [
        "class Student:\n",
        "    def __init__(self, name, grades):\n",
        "        self.name = name\n",
        "        self.grades = grades\n",
        "\n",
        "    def average_grade(self):\n",
        "        return sum(self.grades) / len(self.grades)\n",
        "\n",
        "# Example\n",
        "s = Student(\"Shaurya\", [80, 90, 85])\n",
        "print(\"Average Grade:\", s.average_grade())\n"
      ],
      "metadata": {
        "colab": {
          "base_uri": "https://localhost:8080/"
        },
        "id": "hcXXXXc1Ugrf",
        "outputId": "da9045f2-600a-4de0-c825-8e75172403e3"
      },
      "execution_count": 28,
      "outputs": [
        {
          "output_type": "stream",
          "name": "stdout",
          "text": [
            "Average Grade: 85.0\n"
          ]
        }
      ]
    },
    {
      "cell_type": "markdown",
      "source": [
        "13. Create a class Rectangle with methods set_dimensions() to set the dimensions and area() to calculate the\n",
        "area"
      ],
      "metadata": {
        "id": "XN7oZ0QSUlaV"
      }
    },
    {
      "cell_type": "code",
      "source": [
        "class Rectangle:\n",
        "    def set_dimensions(self, length, width):\n",
        "        self.length = length\n",
        "        self.width = width\n",
        "\n",
        "    def area(self):\n",
        "        return self.length * self.width\n",
        "\n",
        "# Example\n",
        "r = Rectangle()\n",
        "r.set_dimensions(5, 3)\n",
        "print(\"Area of rectangle:\", r.area())\n"
      ],
      "metadata": {
        "colab": {
          "base_uri": "https://localhost:8080/"
        },
        "id": "IpH-ZCpRUop9",
        "outputId": "68f38fe3-df7b-463d-d8ad-02436f1da742"
      },
      "execution_count": 29,
      "outputs": [
        {
          "output_type": "stream",
          "name": "stdout",
          "text": [
            "Area of rectangle: 15\n"
          ]
        }
      ]
    },
    {
      "cell_type": "markdown",
      "source": [
        "14. Create a class Employee with a method calculate_salary() that computes the salary based on hours worked\n",
        "and hourly rate. Create a derived class Manager that adds a bonus to the salary."
      ],
      "metadata": {
        "id": "paPAtNn6U0LS"
      }
    },
    {
      "cell_type": "code",
      "source": [
        "class Employee:\n",
        "    def calculate_salary(self, hours_worked, hourly_rate):\n",
        "        return hours_worked * hourly_rate\n",
        "\n",
        "class Manager(Employee):\n",
        "    def calculate_salary(self, hours_worked, hourly_rate, bonus=0):\n",
        "        base_salary = super().calculate_salary(hours_worked, hourly_rate)\n",
        "        return base_salary + bonus\n",
        "\n",
        "# Example\n",
        "m = Manager()\n",
        "print(\"Manager Salary:\", m.calculate_salary(40, 50, 5000))\n"
      ],
      "metadata": {
        "colab": {
          "base_uri": "https://localhost:8080/"
        },
        "id": "ZFHOqk4tU4m4",
        "outputId": "c89fedb0-b256-41a0-c895-ae37e8db11d8"
      },
      "execution_count": 30,
      "outputs": [
        {
          "output_type": "stream",
          "name": "stdout",
          "text": [
            "Manager Salary: 7000\n"
          ]
        }
      ]
    },
    {
      "cell_type": "markdown",
      "source": [
        "15. Create a class Product with attributes name, price, and quantity. Implement a method total_price() that\n",
        "calculates the total price of the product."
      ],
      "metadata": {
        "id": "M3XMuTt2U9Wg"
      }
    },
    {
      "cell_type": "code",
      "source": [
        "class Product:\n",
        "    def __init__(self, name, price, quantity):\n",
        "        self.name = name\n",
        "        self.price = price\n",
        "        self.quantity = quantity\n",
        "\n",
        "    def total_price(self):\n",
        "        return self.price * self.quantity\n",
        "\n",
        "# Example\n",
        "p = Product(\"Laptop\", 40000, 2)\n",
        "print(\"Total Price:\", p.total_price())\n"
      ],
      "metadata": {
        "colab": {
          "base_uri": "https://localhost:8080/"
        },
        "id": "YJdwZZB3VByX",
        "outputId": "73ffba4e-c0d8-43b2-96d3-c1290acf5095"
      },
      "execution_count": 31,
      "outputs": [
        {
          "output_type": "stream",
          "name": "stdout",
          "text": [
            "Total Price: 80000\n"
          ]
        }
      ]
    },
    {
      "cell_type": "markdown",
      "source": [
        "16. Create a class Animal with an abstract method sound(). Create two derived classes Cow and Sheep that\n",
        "implement the sound() method"
      ],
      "metadata": {
        "id": "3NYA-EOgVGRE"
      }
    },
    {
      "cell_type": "code",
      "source": [
        "from abc import ABC, abstractmethod\n",
        "\n",
        "class Animal(ABC):\n",
        "    @abstractmethod\n",
        "    def sound(self):\n",
        "        pass\n",
        "\n",
        "class Cow(Animal):\n",
        "    def sound(self):\n",
        "        print(\"Cow says Moo\")\n",
        "\n",
        "class Sheep(Animal):\n",
        "    def sound(self):\n",
        "        print(\"Sheep says Baa\")\n",
        "\n",
        "# Example\n",
        "c = Cow()\n",
        "c.sound()\n",
        "\n",
        "s = Sheep()\n",
        "s.sound()\n"
      ],
      "metadata": {
        "colab": {
          "base_uri": "https://localhost:8080/"
        },
        "id": "SuImHZfpVKv5",
        "outputId": "f7e0eda8-7a7b-42dd-c0b9-10de42786f31"
      },
      "execution_count": 32,
      "outputs": [
        {
          "output_type": "stream",
          "name": "stdout",
          "text": [
            "Cow says Moo\n",
            "Sheep says Baa\n"
          ]
        }
      ]
    },
    {
      "cell_type": "markdown",
      "source": [
        "17. Create a class Book with attributes title, author, and year_published. Add a method get_book_info() that\n",
        "returns a formatted string with the book's details"
      ],
      "metadata": {
        "id": "BalRIyoYVPIX"
      }
    },
    {
      "cell_type": "code",
      "source": [
        "class Book:\n",
        "    def __init__(self, title, author, year_published):\n",
        "        self.title = title\n",
        "        self.author = author\n",
        "        self.year_published = year_published\n",
        "\n",
        "    def get_book_info(self):\n",
        "        return f\"'{self.title}' by {self.author}, published in {self.year_published}\"\n",
        "\n",
        "# Example\n",
        "b = Book(\"Atomic Habits\", \"James Clear\", 2018)\n",
        "print(b.get_book_info())\n"
      ],
      "metadata": {
        "colab": {
          "base_uri": "https://localhost:8080/"
        },
        "id": "EgY2Lc7OVWnk",
        "outputId": "eeac6cc5-5a3f-4ca2-f7da-43bf131e9c3a"
      },
      "execution_count": 33,
      "outputs": [
        {
          "output_type": "stream",
          "name": "stdout",
          "text": [
            "'Atomic Habits' by James Clear, published in 2018\n"
          ]
        }
      ]
    },
    {
      "cell_type": "markdown",
      "source": [
        "18. Create a class House with attributes address and price. Create a derived class Mansion that adds an\n",
        "attribute number_of_rooms."
      ],
      "metadata": {
        "id": "T6UK7B4GVdBg"
      }
    },
    {
      "cell_type": "code",
      "source": [
        "class House:\n",
        "    def __init__(self, address, price):\n",
        "        self.address = address\n",
        "        self.price = price\n",
        "\n",
        "class Mansion(House):\n",
        "    def __init__(self, address, price, number_of_rooms):\n",
        "        super().__init__(address, price)\n",
        "        self.number_of_rooms = number_of_rooms\n",
        "\n",
        "# Example\n",
        "m = Mansion(\"Beverly Hills\", 100000000, 12)\n",
        "print(f\"Address: {m.address}, Price: {m.price}, Rooms: {m.number_of_rooms}\")\n"
      ],
      "metadata": {
        "colab": {
          "base_uri": "https://localhost:8080/"
        },
        "id": "zt1-ihWGVgzz",
        "outputId": "77f576ce-beb4-4e48-e875-21be9b037db4"
      },
      "execution_count": 34,
      "outputs": [
        {
          "output_type": "stream",
          "name": "stdout",
          "text": [
            "Address: Beverly Hills, Price: 100000000, Rooms: 12\n"
          ]
        }
      ]
    },
    {
      "cell_type": "code",
      "source": [],
      "metadata": {
        "id": "5teaZuxITXAy"
      },
      "execution_count": null,
      "outputs": []
    },
    {
      "cell_type": "code",
      "source": [],
      "metadata": {
        "id": "t6QipxJMLQkr"
      },
      "execution_count": null,
      "outputs": []
    }
  ]
}