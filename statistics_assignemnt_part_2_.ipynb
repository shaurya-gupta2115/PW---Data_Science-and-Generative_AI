{
  "cells": [
    {
      "cell_type": "markdown",
      "metadata": {
        "id": "wOVYdbGLc001"
      },
      "source": [
        "### 1. What is hypothesis testing in statistics\n",
        "\n",
        "**Answer:**\n",
        "Hypothesis testing is a statistical method that allows us to make inferences or educated guesses about a population based on a sample. It involves testing an assumption (hypothesis) using sample data and determining whether to reject or fail to reject the assumption.\n",
        "\n",
        "\n",
        "### 2. What is the null hypothesis, and how does it differ from the alternative hypothesis\n",
        "\n",
        "**Answer:**\n",
        "The null hypothesis (H0) is the default assumption that there is no effect or no difference. The alternative hypothesis (H1 or Ha) is what you want to prove, indicating that there is an effect or difference. Hypothesis testing is about evaluating evidence against the null hypothesis.\n",
        "\n",
        "### 3. What is the significance level in hypothesis testing, and why is it important\n",
        "\n",
        "**Answer:**\n",
        "The significance level (alpha) is the probability of rejecting the null hypothesis when it is actually true (Type I error). Common values are 0.05 or 0.01. It sets the threshold for determining whether a result is statistically significant.\n",
        "\n",
        "### 4. What does a P-value represent in hypothesis testing\n",
        "\n",
        "**Answer:**\n",
        "The P-value is the probability of obtaining test results at least as extreme as the observed results, under the assumption that the null hypothesis is true. It quantifies the evidence against the null hypothesis.\n",
        "\n",
        "\n",
        "### 5. How do you interpret the P-value in hypothesis testing\n",
        "\n",
        "**Answer:**\n",
        "A small P-value (typically < 0.05) indicates strong evidence against the null hypothesis and leads to its rejection. A large P-value suggests weak evidence and failure to reject the null hypothesis.\n",
        "\n",
        "\n",
        "\n",
        "### 6. What are Type 1 and Type 2 errors in hypothesis testing\n",
        "\n",
        "**Answer:**\n",
        "Type 1 error occurs when we reject a true null hypothesis. Type 2 error happens when we fail to reject a false null hypothesis. Alpha represents the probability of a Type 1 error, while Beta is related to Type 2 error.\n",
        "\n",
        "### 7. What is the difference between a one-tailed and a two-tailed test in hypothesis testing\n",
        "\n",
        "**Answer:**\n",
        "A one-tailed test looks for an effect in one direction (greater or lesser), while a two-tailed test checks for any difference regardless of direction. Two-tailed tests are more conservative.\n",
        "\n",
        "\n",
        "### 8. What is the Z-test, and when is it used in hypothesis testing\n",
        "\n",
        "**Answer:**\n",
        "The Z-test is used when the population standard deviation is known and the sample size is large (n > 30). It's applied to compare a sample mean to a known population mean.\n",
        "\n",
        "\n",
        "### 9. How do you calculate the Z-score, and what does it represent in hypothesis testing\n",
        "**Answer:**\n",
        "Z-score = (X̄ - μ) / (σ / √n), where X̄ is sample mean, μ is population mean, σ is population standard deviation, and n is sample size. It tells us how many standard deviations the sample mean is from the population mean.\n",
        "\n",
        "\n",
        "### 10. What is the T-distribution, and when should it be used instead of the normal distribution\n",
        "**Answer:**\n",
        "The T-distribution is used instead of the normal distribution when the sample size is small (n < 30) and/or the population standard deviation is unknown. It's wider and has heavier tails than the normal distribution.\n",
        "\n",
        "\n",
        "### 11. What is the difference between a Z-test and a T-test\n",
        "**Answer:**\n",
        "The Z-test is used when the population standard deviation is known, while the T-test is used when it is unknown and estimated from the sample. T-tests are more common for small sample sizes.\n",
        "\n",
        "\n",
        "### 12. What is the T-test, and how is it used in hypothesis testing\n",
        "**Answer:**\n",
        "A T-test compares the sample mean to a known value (one-sample), between two independent groups (independent T-test), or paired samples (paired T-test). It tests if means are statistically different.\n",
        "\n",
        "\n",
        "### 13. What is the relationship between Z-test and T-test in hypothesis testing\n",
        "**Answer:**\n",
        "Z-test and T-test both compare means, but T-test adjusts for small samples and unknown variance. As the sample size grows, the T-distribution approaches the normal (Z) distribution.\n",
        "\n",
        "\n",
        "### 14. What is a confidence interval, and how is it used to interpret statistical results\n",
        "**Answer:**\n",
        "A confidence interval gives a range of values within which the true population parameter is expected to lie with a certain level of confidence (e.g., 95%). It helps in understanding the precision of an estimate.\n",
        "\n",
        "### 15. What is the margin of error, and how does it affect the confidence interval\n",
        "**Answer:**\n",
        "Margin of error is the range added and subtracted from the sample estimate to form a confidence interval. A larger margin means less precision, and it's influenced by sample size and confidence level.\n",
        "\n",
        "\n",
        "### 16. How is Bayes' Theorem used in statistics, and what is its significance\n",
        "**Answer:**\n",
        "Bayes' Theorem is used to update the probability of a hypothesis based on new evidence. It's widely used in machine learning, spam filtering, and medical testing to improve predictions.\n",
        "\n",
        "\n",
        "### 17. What is the Chi-square distribution, and when is it used\n",
        "**Answer:**\n",
        "The Chi-square distribution is used in tests of independence and goodness of fit for categorical data. It is positively skewed and depends on degrees of freedom.\n",
        "\n",
        "\n",
        "### 18. What is the Chi-square goodness of fit test, and how is it applied\n",
        "**Answer:**\n",
        "The Chi-square goodness of fit test checks whether the observed frequency distribution matches an expected distribution. It uses the formula Σ((O-E)²/E) across categories.\n",
        "\n",
        "\n",
        "### 19. What is the F-distribution, and when is it used in hypothesis testing\n",
        "**Answer:**\n",
        "The F-distribution arises in comparing two variances. It's used in ANOVA and regression analysis to assess overall significance.\n",
        "\n",
        "\n",
        "### 20. What is an ANOVA test, and what are its assumptions\n",
        "**Answer:**\n",
        "ANOVA (Analysis of Variance) tests for differences among group means. Assumptions include normality, homogeneity of variance, and independence of observations.\n",
        "\n",
        "\n",
        "### 21. What are the different types of ANOVA tests\n",
        "**Answer:**\n",
        "Types of ANOVA:\n",
        "- One-way ANOVA (one factor)\n",
        "- Two-way ANOVA (two factors)\n",
        "- Repeated Measures ANOVA (same subjects over time)\n",
        "\n",
        "\n",
        "### 22. What is the F-test, and how does it relate to hypothesis testing?\n",
        "**Answer:**\n",
        "The F-test compares variances to determine if the variability between groups is greater than expected by chance. It underlies the ANOVA test."
      ]
    },
    {
      "cell_type": "code",
      "execution_count": 2,
      "metadata": {
        "colab": {
          "base_uri": "https://localhost:8080/"
        },
        "id": "h0JRCOZAaEZz",
        "outputId": "e2bc7591-6874-4ad3-9350-40bbcb418835"
      },
      "outputs": [
        {
          "name": "stdout",
          "output_type": "stream",
          "text": [
            "\n",
            "Margin of Error (95%): 2.9733799671115837\n"
          ]
        }
      ],
      "source": [
        "# Practical Part Starts Here\n",
        "\n",
        "\n",
        "import numpy as np\n",
        "import scipy.stats as stats\n",
        "import matplotlib.pyplot as plt\n",
        "import seaborn as sns\n",
        "import pandas as pd\n",
        "from statsmodels.stats.weightstats import ztest\n",
        "\n",
        "# 1. Calculate margin of error for a given confidence level using sample data\n",
        "def margin_of_error(data, confidence=0.95):\n",
        "    n = len(data)\n",
        "    se = stats.sem(data)\n",
        "    moe = se * stats.t.ppf((1 + confidence) / 2., n-1)\n",
        "    return moe\n",
        "\n",
        "sample = np.random.normal(100, 10, 50)\n",
        "print(\"\\nMargin of Error (95%):\", margin_of_error(sample))\n",
        "\n",
        "\n",
        "\n",
        "\n",
        "\n",
        "\n",
        "\n",
        "\n"
      ]
    },
    {
      "cell_type": "code",
      "execution_count": 1,
      "metadata": {
        "colab": {
          "base_uri": "https://localhost:8080/"
        },
        "id": "unKM-nP2aN_a",
        "outputId": "33b13fa7-747b-46f1-b576-f6b120d3302d"
      },
      "outputs": [
        {
          "name": "stdout",
          "output_type": "stream",
          "text": [
            "\n",
            "Posterior Probability: 0.18000000000000002\n"
          ]
        }
      ],
      "source": [
        "# 2. Bayesian inference using Bayes' Theorem\n",
        "def bayesian_inference(prior, likelihood, evidence):\n",
        "    posterior = (prior * likelihood) / evidence\n",
        "    return posterior\n",
        "\n",
        "prior = 0.01\n",
        "likelihood = 0.9\n",
        "evidence = 0.05\n",
        "posterior = bayesian_inference(prior, likelihood, evidence)\n",
        "print(\"\\nPosterior Probability:\", posterior)"
      ]
    },
    {
      "cell_type": "code",
      "execution_count": null,
      "metadata": {
        "id": "o5LA0uIraN7w"
      },
      "outputs": [],
      "source": [
        "\n",
        "\n",
        "# 3. Chi-square test for independence\n",
        "data = {'Gender': ['Male', 'Female'],\n",
        "        'Smoker': [30, 20],\n",
        "        'Non-Smoker': [70, 80]}\n",
        "df = pd.DataFrame(data)\n",
        "obs = np.array([[30, 70], [20, 80]])\n",
        "chi2, p, dof, expected = stats.chi2_contingency(obs)\n",
        "print(\"\\nChi-square Test for Independence:\")\n",
        "print(\"Chi2 Statistic:\", chi2)\n",
        "print(\"P-value:\", p)"
      ]
    },
    {
      "cell_type": "code",
      "execution_count": null,
      "metadata": {
        "id": "sTUvtHJAaN5M"
      },
      "outputs": [],
      "source": [
        "# 4. Calculate expected frequencies for Chi-square test\n",
        "print(\"Expected Frequencies:\\n\", expected)"
      ]
    },
    {
      "cell_type": "code",
      "execution_count": null,
      "metadata": {
        "id": "kd_tTQKOaN1w"
      },
      "outputs": [],
      "source": [
        "# 5. Chi-square goodness-of-fit test\n",
        "observed = np.array([50, 30, 20])\n",
        "expected = np.array([33.33, 33.33, 33.33])\n",
        "chi2_stat, p_val = stats.chisquare(f_obs=observed, f_exp=expected)\n",
        "print(\"\\nChi-square Goodness of Fit:\")\n",
        "print(\"Chi2 Statistic:\", chi2_stat)\n",
        "print(\"P-value:\", p_val)\n"
      ]
    },
    {
      "cell_type": "code",
      "execution_count": null,
      "metadata": {
        "id": "9TXRB-GWaNzK"
      },
      "outputs": [],
      "source": [
        "\n",
        "\n",
        "# 6. Visualize the Chi-square distribution\n",
        "x = np.linspace(0, 20, 1000)\n",
        "y = stats.chi2.pdf(x, df=2)\n",
        "plt.figure(figsize=(8, 5))\n",
        "plt.plot(x, y)\n",
        "plt.title(\"Chi-square Distribution (df=2)\")\n",
        "plt.xlabel(\"x\")\n",
        "plt.ylabel(\"Probability Density\")\n",
        "plt.show()\n"
      ]
    },
    {
      "cell_type": "code",
      "execution_count": null,
      "metadata": {
        "id": "UEXTW-5gaNw0"
      },
      "outputs": [],
      "source": [
        "\n",
        "\n",
        "# 7. F-test for comparing variances\n",
        "sample1 = np.random.normal(20, 5, 100)\n",
        "sample2 = np.random.normal(22, 3, 100)\n",
        "f_stat = np.var(sample1, ddof=1) / np.var(sample2, ddof=1)\n",
        "df1, df2 = len(sample1)-1, len(sample2)-1\n",
        "p_value = 1 - stats.f.cdf(f_stat, df1, df2)\n",
        "print(\"\\nF-test:\")\n",
        "print(\"F Statistic:\", f_stat)\n",
        "print(\"P-value:\", p_value)"
      ]
    },
    {
      "cell_type": "code",
      "execution_count": null,
      "metadata": {
        "id": "rv8xZK-HaNue"
      },
      "outputs": [],
      "source": [
        "\n",
        "# 8. ANOVA test to compare means between multiple groups\n",
        "group1 = np.random.normal(60, 5, 30)\n",
        "group2 = np.random.normal(65, 5, 30)\n",
        "group3 = np.random.normal(70, 5, 30)\n",
        "F_stat, p_val = stats.f_oneway(group1, group2, group3)\n",
        "print(\"\\nANOVA Test:\")\n",
        "print(\"F-statistic:\", F_stat)\n",
        "print(\"P-value:\", p_val)"
      ]
    },
    {
      "cell_type": "code",
      "execution_count": null,
      "metadata": {
        "id": "sIpv8abRaNsZ"
      },
      "outputs": [],
      "source": [
        "\n",
        "# 9. One-way ANOVA visualization with boxplots\n",
        "data = [group1, group2, group3]\n",
        "plt.figure(figsize=(8, 5))\n",
        "plt.boxplot(data, labels=['Group1', 'Group2', 'Group3'])\n",
        "plt.title(\"Boxplot of Groups (One-way ANOVA)\")\n",
        "plt.show()\n",
        "\n"
      ]
    },
    {
      "cell_type": "code",
      "execution_count": null,
      "metadata": {
        "id": "RiXKtjHcaNpy"
      },
      "outputs": [],
      "source": [
        "# 10. Write a Python program to calculate the margin of error for a given confidence level using sample data\n",
        "import numpy as np\n",
        "from scipy.stats import norm\n",
        "\n",
        "data = np.random.normal(50, 10, 100)\n",
        "confidence = 0.95\n",
        "mean = np.mean(data)\n",
        "std_err = np.std(data, ddof=1) / np.sqrt(len(data))\n",
        "z = norm.ppf((1 + confidence) / 2)\n",
        "margin_error = z * std_err\n",
        "\n",
        "print(\"Margin of Error:\", margin_error)\n"
      ]
    },
    {
      "cell_type": "code",
      "execution_count": null,
      "metadata": {
        "id": "Y52D7uLTaNnc"
      },
      "outputs": [],
      "source": [
        "# 11. Implement a Bayesian inference method using Bayes’ Theorem in Python and explain the process\n",
        "# Prior, Likelihood, Evidence\n",
        "prior = 0.01          # P(Disease)\n",
        "sensitivity = 0.95    # P(Positive | Disease)\n",
        "false_positive = 0.05 # P(Positive | No Disease)\n",
        "evidence = (sensitivity * prior) + (false_positive * (1 - prior))\n",
        "\n",
        "# Posterior\n",
        "posterior = (sensitivity * prior) / evidence\n",
        "print(\"Posterior Probability (P(Disease | Positive)):\", posterior)"
      ]
    },
    {
      "cell_type": "code",
      "execution_count": null,
      "metadata": {
        "id": "CrEUveJ5aNk2"
      },
      "outputs": [],
      "source": [
        "\n",
        "# 12. Perform a Chi-square test for independence between two categorical variables in Python\n",
        "import pandas as pd\n",
        "from scipy.stats import chi2_contingency\n",
        "\n",
        "# Create a contingency table\n",
        "data = [[30, 10], [20, 40]]\n",
        "chi2, p, dof, expected = chi2_contingency(data)\n",
        "\n",
        "print(\"Chi-square statistic:\", chi2)\n",
        "print(\"P-value:\", p)\n"
      ]
    },
    {
      "cell_type": "code",
      "execution_count": null,
      "metadata": {
        "id": "tH6rxeQ7aNiQ"
      },
      "outputs": [],
      "source": [
        "\n",
        "\n",
        "\n",
        "# 13. Write a Python program to calculate the expected frequencies for a Chi-square test based on observed data\n",
        "observed = np.array([[10, 20], [20, 30]])\n",
        "chi2, p, dof, expected = chi2_contingency(observed)\n",
        "\n",
        "print(\"Expected Frequencies:\\n\", expected)"
      ]
    },
    {
      "cell_type": "code",
      "execution_count": null,
      "metadata": {
        "id": "ROF6lMNDaNfq"
      },
      "outputs": [],
      "source": [
        "\n",
        "# 14. Perform a goodness-of-fit test using Python to compare the observed data to an expected distribution\n",
        "from scipy.stats import chisquare\n",
        "\n",
        "observed = [18, 22, 20, 40]\n",
        "expected = [25, 25, 25, 25]\n",
        "\n",
        "chi2_stat, p_value = chisquare(f_obs=observed, f_exp=expected)\n",
        "print(\"Chi-square statistic:\", chi2_stat)\n",
        "print(\"P-value:\", p_value)\n"
      ]
    },
    {
      "cell_type": "code",
      "execution_count": null,
      "metadata": {
        "id": "rl2wdIs2aNdR"
      },
      "outputs": [],
      "source": [
        "# 15. Create a Python script to simulate and visualize the Chi-square distribution and discuss its characteristics\n",
        "import matplotlib.pyplot as plt\n",
        "from scipy.stats import chi2\n",
        "\n",
        "df = 10  # degrees of freedom\n",
        "x = np.linspace(0, 40, 500)\n",
        "y = chi2.pdf(x, df)\n",
        "\n",
        "plt.plot(x, y, label=f\"Chi-square (df={df})\")\n",
        "plt.title(\"Chi-square Distribution\")\n",
        "plt.xlabel(\"X\")\n",
        "plt.ylabel(\"Density\")\n",
        "plt.grid(True)\n",
        "plt.legend()\n",
        "plt.show()\n",
        "\n"
      ]
    },
    {
      "cell_type": "code",
      "execution_count": null,
      "metadata": {
        "id": "_IoDyBusaNau"
      },
      "outputs": [],
      "source": [
        "# 16. Implement an F-test using Python to compare the variances of two random samples\n",
        "from scipy.stats import f\n",
        "\n",
        "data1 = np.random.normal(70, 10, 30)\n",
        "data2 = np.random.normal(75, 15, 30)\n",
        "\n",
        "var1 = np.var(data1, ddof=1)\n",
        "var2 = np.var(data2, ddof=1)\n",
        "f_stat = var1 / var2\n",
        "df1 = len(data1) - 1\n",
        "df2 = len(data2) - 1\n",
        "\n",
        "p_value = 1 - f.cdf(f_stat, df1, df2)\n",
        "\n",
        "print(\"F-statistic:\", f_stat)\n",
        "print(\"P-value:\", p_value)\n"
      ]
    },
    {
      "cell_type": "code",
      "execution_count": null,
      "metadata": {
        "id": "7glLAuX1aNVw"
      },
      "outputs": [],
      "source": [
        "# 17. Write a Python program to perform an ANOVA test to compare means between multiple groups and interpret the results\n",
        "from scipy.stats import f_oneway\n",
        "\n",
        "group1 = np.random.normal(70, 5, 30)\n",
        "group2 = np.random.normal(75, 5, 30)\n",
        "group3 = np.random.normal(80, 5, 30)\n",
        "\n",
        "f_stat, p_value = f_oneway(group1, group2, group3)\n",
        "\n",
        "print(\"F-statistic:\", f_stat)\n",
        "print(\"P-value:\", p_value)\n",
        "\n",
        "if p_value < 0.05:\n",
        "    print(\"Significant difference between group means.\")\n",
        "else:\n",
        "    print(\"No significant difference between group means.\")"
      ]
    },
    {
      "cell_type": "code",
      "execution_count": null,
      "metadata": {
        "id": "0svhcVfMaNM_"
      },
      "outputs": [],
      "source": [
        "# 18. Perform a one-way ANOVA test using Python to compare the means of different groups and plot the results\n",
        "\n",
        "plt.boxplot([group1, group2, group3], labels=[\"Group 1\", \"Group 2\", \"Group 3\"])\n",
        "plt.title(\"One-Way ANOVA Boxplot\")\n",
        "plt.ylabel(\"Scores\")\n",
        "plt.grid(True)\n",
        "plt.show()"
      ]
    },
    {
      "cell_type": "code",
      "execution_count": null,
      "metadata": {
        "id": "NJk6r3M8flKE"
      },
      "outputs": [],
      "source": [
        "# 19. Write a Python function to check the assumptions (normality, independence, and equal variance) for ANOVA\n",
        "from scipy.stats import shapiro, levene\n",
        "\n",
        "def check_anova_assumptions(groups):\n",
        "    for i, group in enumerate(groups):\n",
        "        stat, p = shapiro(group)\n",
        "        print(f\"Group {i+1} Normality p-value:\", p)\n",
        "    stat, p = levene(*groups)\n",
        "    print(\"Levene’s Equal Variance Test p-value:\", p)\n",
        "\n",
        "check_anova_assumptions([group1, group2, group3])"
      ]
    },
    {
      "cell_type": "code",
      "execution_count": null,
      "metadata": {
        "id": "hCPsoWDOfo06"
      },
      "outputs": [],
      "source": [
        "# 20. Perform a two-way ANOVA test using Python to study the interaction between two factors and visualize the results\n",
        "\n",
        "import pandas as pd\n",
        "import statsmodels.api as sm\n",
        "from statsmodels.formula.api import ols\n",
        "\n",
        "df = pd.DataFrame({\n",
        "    'Score': np.random.normal(70, 10, 60),\n",
        "    'Gender': ['Male', 'Female'] * 30,\n",
        "    'Treatment': ['A', 'B'] * 30\n",
        "})\n",
        "\n",
        "model = ols('Score ~ C(Gender) + C(Treatment) + C(Gender):C(Treatment)', data=df).fit()\n",
        "anova_table = sm.stats.anova_lm(model, typ=2)\n",
        "print(anova_table)"
      ]
    },
    {
      "cell_type": "code",
      "execution_count": null,
      "metadata": {
        "id": "2EjWI7enftHp"
      },
      "outputs": [],
      "source": [
        "# 21. Write a Python program to visualize the F-distribution and discuss its use in hypothesis testing\n",
        "\n",
        "x = np.linspace(0, 5, 1000)\n",
        "df1, df2 = 5, 20\n",
        "y = f.pdf(x, df1, df2)\n",
        "\n",
        "plt.plot(x, y, label=f'F-distribution df1={df1}, df2={df2}')\n",
        "plt.title(\"F-distribution\")\n",
        "plt.xlabel(\"F value\")\n",
        "plt.ylabel(\"Density\")\n",
        "plt.grid(True)\n",
        "plt.legend()\n",
        "plt.show()"
      ]
    },
    {
      "cell_type": "code",
      "execution_count": null,
      "metadata": {
        "id": "23phuEaIf-rm"
      },
      "outputs": [],
      "source": [
        "# 22. Perform a one-way ANOVA test in Python and visualize the results with boxplots to compare group means\n",
        "plt.boxplot([group1, group2, group3], labels=[\"Group 1\", \"Group 2\", \"Group 3\"])\n",
        "plt.title(\"One-Way ANOVA Boxplot\")\n",
        "plt.ylabel(\"Scores\")\n",
        "plt.grid(True)\n",
        "plt.show()"
      ]
    },
    {
      "cell_type": "code",
      "execution_count": null,
      "metadata": {
        "id": "WSgd1L96gHAJ"
      },
      "outputs": [],
      "source": [
        "# 23. Simulate random data from a normal distribution, then perform hypothesis testing to evaluate the means\n",
        "from scipy.stats import ttest_1samp\n",
        "\n",
        "data = np.random.normal(100, 10, 50)\n",
        "t_stat, p_value = ttest_1samp(data, 100)\n",
        "print(\"T-statistic:\", t_stat)\n",
        "print(\"P-value:\", p_value)"
      ]
    },
    {
      "cell_type": "code",
      "execution_count": null,
      "metadata": {
        "id": "4X2i0sekgJpK"
      },
      "outputs": [],
      "source": [
        "# 24. Perform a hypothesis test for population variance using a Chi-square distribution and interpret the results\n",
        "\n",
        "from scipy.stats import chi2\n",
        "\n",
        "sample = np.random.normal(100, 15, 30)\n",
        "sample_var = np.var(sample, ddof=1)\n",
        "hypo_var = 15**2\n",
        "n = len(sample)\n",
        "\n",
        "chi2_stat = (n - 1) * sample_var / hypo_var\n",
        "p_value = 1 - chi2.cdf(chi2_stat, df=n - 1)\n",
        "\n",
        "print(\"Chi-square stat:\", chi2_stat)\n",
        "print(\"P-value:\", p_value)"
      ]
    },
    {
      "cell_type": "code",
      "execution_count": null,
      "metadata": {
        "id": "CHqPPnMFgOri"
      },
      "outputs": [],
      "source": [
        "# 25. Write a Python script to perform a Z-test for comparing proportions between two datasets or groups\n",
        "from statsmodels.stats.proportion import proportions_ztest\n",
        "\n",
        "successes = [40, 30]\n",
        "samples = [100, 100]\n",
        "z_stat, p_value = proportions_ztest(successes, samples)\n",
        "\n",
        "print(\"Z-stat:\", z_stat)\n",
        "print(\"P-value:\", p_value)"
      ]
    },
    {
      "cell_type": "code",
      "execution_count": null,
      "metadata": {
        "id": "DXugGZmygSwO"
      },
      "outputs": [],
      "source": [
        "# 26. Implement an F-test for comparing the variances of two datasets, then interpret and visualize the results\n",
        "data1 = np.random.normal(60, 10, 40)\n",
        "data2 = np.random.normal(60, 20, 40)\n",
        "\n",
        "var1 = np.var(data1, ddof=1)\n",
        "var2 = np.var(data2, ddof=1)\n",
        "f_stat = var1 / var2\n",
        "df1, df2 = len(data1)-1, len(data2)-1\n",
        "p_value = 1 - f.cdf(f_stat, df1, df2)\n",
        "\n",
        "print(\"F-stat:\", f_stat)\n",
        "print(\"P-value:\", p_value)"
      ]
    },
    {
      "cell_type": "code",
      "execution_count": 1,
      "metadata": {
        "id": "eP7rvckwgWjN"
      },
      "outputs": [
        {
          "name": "stdout",
          "output_type": "stream",
          "text": [
            "Chi-square: 12.32\n",
            "P-value: 0.006363629995195272\n"
          ]
        }
      ],
      "source": [
        "# 27. Perform a Chi-square test for goodness of fit with simulated data and analyze the results\n",
        "from scipy.stats import chisquare\n",
        "\n",
        "observed = [18, 20, 22, 40]\n",
        "expected = [25, 25, 25, 25]\n",
        "\n",
        "chi2_stat, p = chisquare(f_obs=observed, f_exp=expected)\n",
        "\n",
        "print(\"Chi-square:\", chi2_stat)\n",
        "print(\"P-value:\", p)"
      ]
    }
  ],
  "metadata": {
    "colab": {
      "provenance": []
    },
    "kernelspec": {
      "display_name": "base",
      "language": "python",
      "name": "python3"
    },
    "language_info": {
      "codemirror_mode": {
        "name": "ipython",
        "version": 3
      },
      "file_extension": ".py",
      "mimetype": "text/x-python",
      "name": "python",
      "nbconvert_exporter": "python",
      "pygments_lexer": "ipython3",
      "version": "3.12.7"
    }
  },
  "nbformat": 4,
  "nbformat_minor": 0
}
