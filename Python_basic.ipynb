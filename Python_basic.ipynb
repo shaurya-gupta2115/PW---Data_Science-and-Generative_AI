{
  "nbformat": 4,
  "nbformat_minor": 0,
  "metadata": {
    "colab": {
      "provenance": []
    },
    "kernelspec": {
      "name": "python3",
      "display_name": "Python 3"
    },
    "language_info": {
      "name": "python"
    }
  },
  "cells": [
    {
      "cell_type": "markdown",
      "source": [
        "# Python Basics Assignment - 01\n",
        "\n",
        "---\n",
        "\n"
      ],
      "metadata": {
        "id": "pqppLKPVocrW"
      }
    },
    {
      "cell_type": "markdown",
      "source": [
        "#Basic Theoretical Questions :-\n",
        "\n",
        "---\n",
        "\n"
      ],
      "metadata": {
        "id": "6Kd0prWFu28P"
      }
    },
    {
      "cell_type": "markdown",
      "source": [
        "1. What is Python, and why is it popular ?\n",
        "   - Python is a high-level, easy-to-learn programming language known for its simple syntax and versatility.\n",
        "\n",
        "   - **It’s popular because:**\n",
        "\n",
        "      •\tIt’s beginner-friendly\n",
        "\n",
        "      •\tUsed in web development, data science, AI, automation, and more\n",
        "\n",
        "      •\tHas a huge collection of libraries\n",
        "\n",
        "      •\tSupported by a large community\n",
        "\n",
        "      •\tWorks across platforms (Windows, Mac, Linux)\n",
        "\n",
        "2. What is an interpreter in Python ?\n",
        "\n",
        "  - An interpreter in Python is a program that reads and executes Python code line by line, converting it into machine code at runtime.\n",
        "    - Runs code directly, without compiling it first.\n",
        "    - Easier debugging and faster testing.\n",
        "    - Interpreter processes .py files and executes the instruction.\n",
        "\n",
        "3. What are pre-defined keywords in Python?\n",
        "  - Pre-defined keywords are those keywords which are reserved in python and ave the special meaning.\n",
        "  - These Keywords should not be used as variables name.\n",
        "    - eg. for, while, break, continue, if , elif, else, etc\n",
        "\n",
        "4. Can keywords be used as variable names ?\n",
        "  - No , this creates confusion to interpreter whether the given word has some special function or it is variable pointing to some data. Due to this, if keyword is used , the functionality get affected in this .\n",
        "\n",
        "5. What is mutability in Python ?\n",
        "  - dMutability refers to whether an object's  value can be changed after it is created.\n",
        "\n",
        "6. Why are lists mutable, but tuples are immutable?\n",
        "  -  Lists are mutable for flexibility and dynamic updates, while Tuples are immutable to ensure data consistency and optimize performance.\n",
        "\n",
        "    - Lists are mutable because they are designed for dynamic data. You can add, remove, or change elements. They are used when the data needs to change during program execution.\n",
        "\n",
        "    - Tuples are immutable because they are meant to store fixed, constant data. This makes them faster, memory-efficient, and hashable (usable as dictionary keys). They ensure data integrity by preventing changes.\n",
        "\n",
        "7. What is the difference between “==” and “is” operators in Python ?\n",
        "  - \t“== asks Are you equal? → value check”\n",
        "  - “is asks Are you the same? → identity check”\n",
        "\n",
        "  similarly ::\n",
        "\n",
        "    a = [1, 2, 3]\n",
        "\n",
        "    b = [1, 2, 3]\n",
        "\n",
        "    a == b  # True, because values are the same\n",
        "\n",
        "    a is b  # False, because they are two different objects in memory\n",
        "\n",
        "8. What are logical operators in Python ?\n",
        "\n",
        "\n",
        "  - Logical operators in Python are used to combine multiple boolean expressions:\n",
        "\t  -\tand: Returns True if both conditions are true.\n",
        "\t  -\tor: Returns True if at least one condition is true.\n",
        "\t  -\tnot: Reverses the boolean value (e.g., not True → False).\n",
        "\n",
        "9. What is type casting in Python ?\n",
        "\n",
        "  - Type casting in Python refers to converting one data type to another. It allows you to change the type of a variable to suit your needs.\n",
        "\n",
        "    Types of Type Casting:\n",
        "      1.\tImplicit Casting (Automatic): Python automatically converts one data type to another when necessary.\n",
        "        -\tExample: Converting an integer to a float automatically during arithmetic.\n",
        "      2.\tExplicit Casting (Manual): You manually convert a variable to another type using functions like int(), float(), str(), etc.\n",
        "\t      -\tExample: Converting a string to an integer.\n",
        "\n",
        "\n",
        "10. What is the difference between implicit and explicit type casting ?\n",
        "\n",
        "      Implicit Type Casting (Automatic):\n",
        "        •\tPython automatically converts one data type to another.\n",
        "        •\tHappens when there’s no loss of information.\n",
        "        •\tExample: x = 5 + 2.5 (int to float automatically).\n",
        "\n",
        "      Explicit Type Casting (Manual):\n",
        "        •\tYou manually convert a data type using functions like int(), float(), etc.\n",
        "        •\tExample: x = int(\"123\") (string to int manually).\n",
        "\n",
        "      Key Difference:\n",
        "        •\tImplicit is done automatically by Python; explicit is done by the programmer.\n",
        "11. What is the purpose of conditional statements in Python ?\n",
        "\n",
        "      Conditional statements in Python are used to execute certain blocks of code based on whether a condition is True or False. They allow for decision-making, enabling the program to behave differently under different circumstances.\n",
        "\n",
        "      Common conditional statements:\n",
        "        1.\tif: Checks if a condition is True, and executes the code block if it is.\n",
        "        2.\telif: (Else If) Checks additional conditions if the previous if is False.\n",
        "        3.\telse: Executes a block of code if all preceding conditions are False.\n",
        "\n",
        "      Purpose:\n",
        "        •\tControl flow: Allows your program to make decisions and take actions accordingly.\n",
        "\n",
        "12. How does the elif statement work. ?\n",
        "\n",
        "        The elif (short for “else if”) statement in Python is used to check multiple conditions after the initial if statement. It allows you to test additional conditions if the previous if (or elif) condition is false.\n",
        "\n",
        "13. What is the difference between for and while loops ?\n",
        "\n",
        "      for loop:\n",
        "        •\tUsed for iterating over a sequence (like a list, tuple, or range).\n",
        "        •\tIt runs a specific number of times based on the length of the sequence.\n",
        "        •\tCommonly used when the number of iterations is known beforehand.\n",
        "\n",
        "      while loop:\n",
        "        •\tUsed to repeat a block of code as long as a condition is True.\n",
        "        •\tIt can run an indefinite number of times if the condition is always true (can lead to infinite loops).\n",
        "        •\tCommonly used when the number of iterations is not known in advance and depends on a condition.\n",
        "\n",
        "14. Describe a scenario where a while loop is more suitable than a for loop.\n",
        "        A while loop is more suitable than a for loop when the number of iterations is not known in advance and depends on a condition that might change during the execution.\n",
        "\n",
        "      Scenario: User input validation\n",
        "\n",
        "      Imagine you want to keep prompting the user to enter a valid password, and you don’t know how many attempts the user will need to give a correct password. A while loop would be ideal because it continues until the user provides the correct input."
      ],
      "metadata": {
        "id": "kve70FByvDsU"
      }
    },
    {
      "cell_type": "markdown",
      "source": [
        "#Practical Questions :-\n",
        "\n",
        "---\n",
        "\n"
      ],
      "metadata": {
        "id": "9eBZ0CEqumyV"
      }
    },
    {
      "cell_type": "code",
      "source": [
        "# 1. Write a Python program to print \"Hello, World!\"\n",
        "print(\"Hello, World!\")\n"
      ],
      "metadata": {
        "colab": {
          "base_uri": "https://localhost:8080/"
        },
        "id": "KnC8EdZRpH9r",
        "outputId": "5407441c-a63b-4dd7-f954-eeeca1fd4b82"
      },
      "execution_count": 17,
      "outputs": [
        {
          "output_type": "stream",
          "name": "stdout",
          "text": [
            "Hello, World!\n"
          ]
        }
      ]
    },
    {
      "cell_type": "code",
      "source": [
        "# 2. Write a Python program that displays your name and age\n",
        "name = \"Shaurya Gupta\"\n",
        "age = \"21\"\n",
        "print(\"My name is \" + name + \"and my age is \" + age)"
      ],
      "metadata": {
        "colab": {
          "base_uri": "https://localhost:8080/"
        },
        "id": "M0wDCy75pRVo",
        "outputId": "99eb874a-0bf7-4e70-db4a-5b5829faa664"
      },
      "execution_count": 16,
      "outputs": [
        {
          "output_type": "stream",
          "name": "stdout",
          "text": [
            "My name is Shaurya Guptaand my age is 21\n"
          ]
        }
      ]
    },
    {
      "cell_type": "code",
      "source": [
        "# 3. Write code to print all the pre-defined keywords in Python using the keyword library\n",
        "import keyword\n",
        "print(keyword.kwlist)\n"
      ],
      "metadata": {
        "colab": {
          "base_uri": "https://localhost:8080/"
        },
        "id": "36eH8GIRppy-",
        "outputId": "650e273b-0ff6-4940-fe01-04f3eae86fa7"
      },
      "execution_count": 4,
      "outputs": [
        {
          "output_type": "stream",
          "name": "stdout",
          "text": [
            "['False', 'None', 'True', 'and', 'as', 'assert', 'async', 'await', 'break', 'class', 'continue', 'def', 'del', 'elif', 'else', 'except', 'finally', 'for', 'from', 'global', 'if', 'import', 'in', 'is', 'lambda', 'nonlocal', 'not', 'or', 'pass', 'raise', 'return', 'try', 'while', 'with', 'yield']\n"
          ]
        }
      ]
    },
    {
      "cell_type": "code",
      "source": [
        "# 4. Write a program that checks if a given word is a Python keyword\n",
        "import keyword\n",
        "word = input(\"Enter the word : \")\n",
        "if keyword.iskeyword(word):\n",
        "    print(\"Yes, it is a keyword\")\n",
        "else:\n",
        "    print(\"It is not a keyword : \" + word)"
      ],
      "metadata": {
        "colab": {
          "base_uri": "https://localhost:8080/"
        },
        "id": "DEsYnd3nqSbz",
        "outputId": "0280e790-e96a-461c-b1c9-f7019c837911"
      },
      "execution_count": 15,
      "outputs": [
        {
          "output_type": "stream",
          "name": "stdout",
          "text": [
            "Enter the word : hello\n",
            "It is not a keyword : hello\n"
          ]
        }
      ]
    },
    {
      "cell_type": "code",
      "source": [
        "# 5. Create a list and tuple in Python, and demonstrate how attempting to change an element works differently for each.\n",
        "\n",
        "new_list = [\"apple\" , \"banana\" , \"cat\", \"dog\", True, \"Shaurya_gupta\", 24]\n",
        "new_list[4] = False\n",
        "print(new_list)\n",
        "\n",
        "new_tuple = (\"hi\", \"create\" , 34)\n",
        "print(new_tuple)\n",
        "#new_tuple[2] = \"HELLO\"  #this will generate an error saying \"tuple\" object does not support item assignment"
      ],
      "metadata": {
        "colab": {
          "base_uri": "https://localhost:8080/"
        },
        "id": "TPuhopGPrf2u",
        "outputId": "1b112e50-21f2-46e2-f3c9-1b2a99a998ac"
      },
      "execution_count": 14,
      "outputs": [
        {
          "output_type": "stream",
          "name": "stdout",
          "text": [
            "['apple', 'banana', 'cat', 'dog', False, 'Shaurya_gupta', 24]\n",
            "('hi', 'create', 34)\n"
          ]
        }
      ]
    },
    {
      "cell_type": "code",
      "source": [
        "# 6.  Write a function to demonstrate the behavior of mutable and immutable arguments\n",
        "\n",
        "def argumentChange(arg):\n",
        "    if isinstance(arg,list):\n",
        "        arg.append(100)\n",
        "    if isinstance(arg, int):\n",
        "        arg +=100\n",
        "\n",
        "number = 10\n",
        "lst = [10,23,235]\n",
        "\n",
        "argumentChange(18)\n",
        "argumentChange(lst)\n",
        "\n",
        "print(lst)\n",
        "print(number)\n",
        "\n",
        "#here since list is mutable it got modified but since integer can't be mutable it is not passed as reference, due to this integer copy\n",
        "# is manipulated in function instead of reference but when list is passed then it is passed with reference and hence it got modified :)\n",
        "\n"
      ],
      "metadata": {
        "colab": {
          "base_uri": "https://localhost:8080/"
        },
        "id": "LSbNv6gNBFFj",
        "outputId": "31b8c48e-538c-478c-ce32-6d9ddb10eb14"
      },
      "execution_count": 13,
      "outputs": [
        {
          "output_type": "stream",
          "name": "stdout",
          "text": [
            "[10, 23, 235, 100]\n",
            "10\n"
          ]
        }
      ]
    },
    {
      "cell_type": "code",
      "source": [
        "# 7.  Write a program that performs basic arithmetic operations on two user-input numbers\n",
        "\n",
        "a = int(input(\"Enter first number: \"))\n",
        "b = int(input(\"Enter second number: \"))\n",
        "\n",
        "addition = a + b\n",
        "subtraction = a-b\n",
        "multiplication = a*b\n",
        "if(b!=0):\n",
        "    division = float(a/b)\n",
        "\n",
        "print( \"Addition : \" , addition)\n",
        "print( \"Substraction : \" , subtraction)\n",
        "\n",
        "print( \"Multiplication  : \" , multiplication)\n",
        "\n",
        "print( \"Division : \" , division )\n",
        "\n"
      ],
      "metadata": {
        "colab": {
          "base_uri": "https://localhost:8080/"
        },
        "id": "cdRW8UzIMrsr",
        "outputId": "608491ee-a6bf-4252-ce93-ca12ef895bd4"
      },
      "execution_count": 6,
      "outputs": [
        {
          "output_type": "stream",
          "name": "stdout",
          "text": [
            "Enter first number: 46\n",
            "Enter second number: 23\n",
            "Addition :  69\n",
            "Substraction :  23\n",
            "Multiplication  :  1058\n",
            "Division :  2.0\n"
          ]
        }
      ]
    },
    {
      "cell_type": "code",
      "source": [
        "# 8. Write a program to demonstrate the use of logical operators.\n",
        "\n",
        "# as logical operators we are going to use following operator and or not\n",
        "\n",
        "a = 45\n",
        "b=65\n",
        "if(a>34 and b>77):\n",
        "    print(\"True\")\n",
        "\n",
        "if(a < 34 or b<77):\n",
        "    print(\"False\")\n",
        "\n",
        "print(not a>20) # this will give me false"
      ],
      "metadata": {
        "colab": {
          "base_uri": "https://localhost:8080/"
        },
        "id": "06NsKKNvNpkd",
        "outputId": "37389476-b690-459e-d6fc-0db8aacd31e0"
      },
      "execution_count": 12,
      "outputs": [
        {
          "output_type": "stream",
          "name": "stdout",
          "text": [
            "False\n",
            "False\n"
          ]
        }
      ]
    },
    {
      "cell_type": "code",
      "source": [
        "# 9. Write a Python program to convert user input from string to integer, float, and boolean types.\n",
        "user_input = input(\"Enter a value: \")\n",
        "\n",
        "\n",
        "# Convert to integer\n",
        "try:\n",
        "    int_value = int(user_input)\n",
        "    print(\"Integer:\", int_value)\n",
        "except ValueError:\n",
        "    print(\"Cannot convert to Integer\")\n",
        "\n",
        "# remember that the direct conversion is not possible to convert the \"5.6\"  to 5 into integer that's why it will show an error .\n",
        "# Due to which if we want to convert the input float value which is in string ---> float and then float ---> integer is possible\n",
        "\n",
        "# Convert to float\n",
        "try:\n",
        "    float_value = float(user_input)\n",
        "    print(\"Float:\", float_value)\n",
        "except ValueError:\n",
        "    print(\"Cannot convert to Float\")\n",
        "\n",
        "\n",
        "# Convert to boolean\n",
        "bool_value = bool(user_input)\n",
        "print(\"Boolean:\", bool_value)"
      ],
      "metadata": {
        "colab": {
          "base_uri": "https://localhost:8080/"
        },
        "id": "yVAGtKWqf6cK",
        "outputId": "170267d9-f7e4-4ee4-d104-1e2ba97509cb"
      },
      "execution_count": 9,
      "outputs": [
        {
          "output_type": "stream",
          "name": "stdout",
          "text": [
            "Enter a value: 6\n",
            "Integer: 6\n",
            "Float: 6.0\n",
            "Boolean: True\n"
          ]
        }
      ]
    },
    {
      "cell_type": "code",
      "source": [
        "#10. Write code to demonstrate type casting with list elements\n",
        "\n",
        "lst = ['45', '453','4576','123']\n",
        "new_list = list(map(int,lst))\n",
        "\n",
        "print(new_list)\n",
        "\n",
        "type(new_list[0]) # here the element type get converted into integer --->. hence we type caste the list element from string to integer :)\n",
        "\n",
        "# a = list(\"hello world\")\n",
        "# print(a)\n",
        "\n",
        "#['h', 'e', 'l', 'l', 'o', ' ', 'w', 'o', 'r', 'l', 'd']"
      ],
      "metadata": {
        "colab": {
          "base_uri": "https://localhost:8080/"
        },
        "id": "NE63mJwRhEir",
        "outputId": "73729cb0-c74c-4e1a-b3b7-e611dcc6daf6"
      },
      "execution_count": 15,
      "outputs": [
        {
          "output_type": "stream",
          "name": "stdout",
          "text": [
            "[45, 453, 4576, 123]\n"
          ]
        },
        {
          "output_type": "execute_result",
          "data": {
            "text/plain": [
              "int"
            ]
          },
          "metadata": {},
          "execution_count": 15
        }
      ]
    },
    {
      "cell_type": "code",
      "source": [
        "#11. Write a program that checks if a number is positive, negative, or zero.\n",
        "\n",
        "num = int(input(\"Enter a number: \"))\n",
        "\n",
        "if num > 0:\n",
        "    print(\"The number is positive.\")\n",
        "elif num < 0:\n",
        "    print(\"The number is negative.\")\n",
        "else:\n",
        "    print(\"The number is zero.\")"
      ],
      "metadata": {
        "colab": {
          "base_uri": "https://localhost:8080/"
        },
        "id": "mHgHdzsgmfxl",
        "outputId": "8cbdc747-c486-412f-9722-3ccb25cb187e"
      },
      "execution_count": 18,
      "outputs": [
        {
          "output_type": "stream",
          "name": "stdout",
          "text": [
            "Enter a number: -368\n",
            "The number is negative.\n"
          ]
        }
      ]
    },
    {
      "cell_type": "code",
      "source": [
        "# 12. Write a for loop to print numbers from 1 to 10\n",
        "\n",
        "for i in range(10):     #since it get started from 0th --> we have to add 1 in the i to make it count from 1\n",
        "  print((i+1))\n"
      ],
      "metadata": {
        "colab": {
          "base_uri": "https://localhost:8080/"
        },
        "id": "HZfdpc_cncoh",
        "outputId": "4046bf26-ea9d-42c9-f917-9272b2d6c3dd"
      },
      "execution_count": 20,
      "outputs": [
        {
          "output_type": "stream",
          "name": "stdout",
          "text": [
            "1\n",
            "2\n",
            "3\n",
            "4\n",
            "5\n",
            "6\n",
            "7\n",
            "8\n",
            "9\n",
            "10\n"
          ]
        }
      ]
    },
    {
      "cell_type": "code",
      "source": [
        "# 13 Write a Python program to find the sum of all even numbers between 1 and 50\n",
        "sum  = 0\n",
        "for i in range (1,51):\n",
        "  if(i%2 == 0):\n",
        "    sum+=i\n",
        "print(sum)\n",
        ""
      ],
      "metadata": {
        "colab": {
          "base_uri": "https://localhost:8080/"
        },
        "id": "DFSTkucMn78c",
        "outputId": "9d591fca-6c2a-44b4-ad7a-17782ce232d1"
      },
      "execution_count": 22,
      "outputs": [
        {
          "output_type": "stream",
          "name": "stdout",
          "text": [
            "650\n"
          ]
        }
      ]
    },
    {
      "cell_type": "code",
      "source": [
        "#14. Write a program to reverse a string using a while loop.\n",
        "\n",
        "input_string = input(\"Enter the string : \")\n",
        "rev_string = \"\"\n",
        "\n",
        "string_length = len(input_string)\n",
        "\n",
        "#since it supports backward indexing then :\n",
        "\n",
        "while(string_length>0):\n",
        "  string_length -= 1\n",
        "  rev_string += input_string[string_length]\n",
        "\n",
        "print(rev_string)\n",
        "\n"
      ],
      "metadata": {
        "colab": {
          "base_uri": "https://localhost:8080/"
        },
        "id": "5sGdWVfSp7Dn",
        "outputId": "b94677cf-f34a-4806-e678-c6bd054f1ed6"
      },
      "execution_count": 23,
      "outputs": [
        {
          "output_type": "stream",
          "name": "stdout",
          "text": [
            "Enter the string : helloworld\n",
            "dlrowolleh\n"
          ]
        }
      ]
    },
    {
      "cell_type": "code",
      "source": [
        "# 15. Write a Python program to calculate the factorial of a number provided by the user using a while loop\n",
        "\n",
        "#program starts here\n",
        "\n",
        "num = int(input(\"Enter the number : \"))\n",
        "\n",
        "factorial = 1;\n",
        "\n",
        "if(num ==0):\n",
        "  print(1)\n",
        "else:\n",
        "  while(num>0):\n",
        "    factorial = factorial * num\n",
        "    num-=1\n",
        "  print(factorial)"
      ],
      "metadata": {
        "colab": {
          "base_uri": "https://localhost:8080/"
        },
        "id": "lg183WMWtFJy",
        "outputId": "b2878946-a445-4ed0-9fba-18a9b9983106"
      },
      "execution_count": 26,
      "outputs": [
        {
          "output_type": "stream",
          "name": "stdout",
          "text": [
            "Enter the number : 6\n",
            "720\n"
          ]
        }
      ]
    }
  ]
}