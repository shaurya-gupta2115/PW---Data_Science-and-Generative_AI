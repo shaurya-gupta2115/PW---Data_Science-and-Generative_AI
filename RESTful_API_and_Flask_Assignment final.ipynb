{
  "cells": [
    {
      "cell_type": "markdown",
      "id": "becb97f9",
      "metadata": {
        "id": "becb97f9"
      },
      "source": [
        "### 1. What is a RESTful API\n",
        "\n",
        "_Answer:_\n",
        "\n",
        "**Answer:**\n",
        "A RESTful API (Representational State Transfer) is an architectural style for building web services that use HTTP requests to perform CRUD operations. It emphasizes stateless communication and structured access to resources via URIs."
      ]
    },
    {
      "cell_type": "markdown",
      "id": "ecea1884",
      "metadata": {
        "id": "ecea1884"
      },
      "source": [
        "### 2. Explain the concept of API specification\n",
        "\n",
        "_Answer:_\n",
        "\n",
        "**Answer:**\n",
        "A RESTful API (Representational State Transfer) is an architectural style for building web services that use HTTP requests to perform CRUD operations. It emphasizes stateless communication and structured access to resources via URIs."
      ]
    },
    {
      "cell_type": "markdown",
      "id": "e3f184a8",
      "metadata": {
        "id": "e3f184a8"
      },
      "source": [
        "### 3. What is Flask, and why is it popular for building APIs\n",
        "\n",
        "_Answer:_\n",
        "\n",
        "**Answer:**\n",
        "An API specification defines how APIs behave, including endpoints, request methods, parameters, and responses. It ensures consistency and enables developers to understand and use the API effectively (e.g., OpenAPI/Swagger)."
      ]
    },
    {
      "cell_type": "markdown",
      "id": "091d7ad7",
      "metadata": {
        "id": "091d7ad7"
      },
      "source": [
        "### 4. What is routing in Flask\n",
        "\n",
        "_Answer:_\n",
        "\n",
        "**Answer:**\n",
        "An API specification defines how APIs behave, including endpoints, request methods, parameters, and responses. It ensures consistency and enables developers to understand and use the API effectively (e.g., OpenAPI/Swagger)."
      ]
    },
    {
      "cell_type": "markdown",
      "id": "6b3c2b61",
      "metadata": {
        "id": "6b3c2b61"
      },
      "source": [
        "### 5. How do you create a simple Flask application\n",
        "\n",
        "_Answer:_\n",
        "\n",
        "**Answer:**\n",
        "Flask is a micro web framework written in Python. It's popular for building APIs due to its simplicity, flexibility, and rich ecosystem of extensions like Flask-RESTful and Flask-SQLAlchemy."
      ]
    },
    {
      "cell_type": "markdown",
      "id": "6658e91d",
      "metadata": {
        "id": "6658e91d"
      },
      "source": [
        "### 6. What are HTTP methods used in RESTful APIs\n",
        "\n",
        "_Answer:_\n",
        "\n",
        "**Answer:**\n",
        "Flask is a micro web framework written in Python. It's popular for building APIs due to its simplicity, flexibility, and rich ecosystem of extensions like Flask-RESTful and Flask-SQLAlchemy."
      ]
    },
    {
      "cell_type": "markdown",
      "id": "fd57fd8f",
      "metadata": {
        "id": "fd57fd8f"
      },
      "source": [
        "### 7. What is the purpose of the @app.route() decorator in Flask\n",
        "\n",
        "_Answer:_\n",
        "\n",
        "**Answer:**\n",
        "Routing in Flask refers to mapping URLs to functions. It determines which function handles which URL path using the `@app.route()` decorator."
      ]
    },
    {
      "cell_type": "markdown",
      "id": "3611f2d7",
      "metadata": {
        "id": "3611f2d7"
      },
      "source": [
        "### 8. What is the difference between GET and POST HTTP methods\n",
        "\n",
        "_Answer:_\n",
        "\n",
        "**Answer:**\n",
        "Routing in Flask refers to mapping URLs to functions. It determines which function handles which URL path using the `@app.route()` decorator."
      ]
    },
    {
      "cell_type": "markdown",
      "id": "3d932a8e",
      "metadata": {
        "id": "3d932a8e"
      },
      "source": [
        "### 9. How do you handle errors in Flask APIs\n",
        "\n",
        "_Answer:_\n",
        "\n",
        "**Answer:**\n",
        "```python\n",
        "from flask import Flask\n",
        "app = Flask(__name__)\n",
        "\n",
        "@app.route('/')\n",
        "def home():\n",
        "    return 'Hello, World!'\n",
        "\n",
        "if __name__ == '__main__':\n",
        "    app.run(debug=True)\n",
        "```"
      ]
    },
    {
      "cell_type": "markdown",
      "id": "21b6a1a5",
      "metadata": {
        "id": "21b6a1a5"
      },
      "source": [
        "### 10. How do you connect Flask to a SQL database\n",
        "\n",
        "_Answer:_\n",
        "\n",
        "**Answer:**\n",
        "```python\n",
        "from flask import Flask\n",
        "app = Flask(__name__)\n",
        "\n",
        "@app.route('/')\n",
        "def home():\n",
        "    return 'Hello, World!'\n",
        "\n",
        "if __name__ == '__main__':\n",
        "    app.run(debug=True)\n",
        "```"
      ]
    },
    {
      "cell_type": "markdown",
      "id": "946f1aaf",
      "metadata": {
        "id": "946f1aaf"
      },
      "source": [
        "### 11. What is the role of Flask-SQLAlchemy\n",
        "\n",
        "_Answer:_\n",
        "\n",
        "**Answer:**\n",
        "Common HTTP methods in RESTful APIs are:\n",
        "- GET: Retrieve data\n",
        "- POST: Create data\n",
        "- PUT: Update data\n",
        "- DELETE: Remove data\n",
        "- PATCH: Partial update"
      ]
    },
    {
      "cell_type": "markdown",
      "id": "91e9bcec",
      "metadata": {
        "id": "91e9bcec"
      },
      "source": [
        "### 12. What are Flask blueprints, and how are they useful\n",
        "\n",
        "_Answer:_\n",
        "\n",
        "**Answer:**\n",
        "Common HTTP methods in RESTful APIs are:\n",
        "- GET: Retrieve data\n",
        "- POST: Create data\n",
        "- PUT: Update data\n",
        "- DELETE: Remove data\n",
        "- PATCH: Partial update"
      ]
    },
    {
      "cell_type": "markdown",
      "id": "8f71bef3",
      "metadata": {
        "id": "8f71bef3"
      },
      "source": [
        "### 13. What is the purpose of Flask's request object\n",
        "\n",
        "_Answer:_\n",
        "\n",
        "**Answer:**\n",
        "`@app.route()` defines the URL path and maps it to a Python function. It binds a URL to a view function in a Flask app."
      ]
    },
    {
      "cell_type": "markdown",
      "id": "1a4d2ae1",
      "metadata": {
        "id": "1a4d2ae1"
      },
      "source": [
        "### 14. How do you create a RESTful API endpoint using Flask\n",
        "\n",
        "_Answer:_\n",
        "\n",
        "**Answer:**\n",
        "`@app.route()` defines the URL path and maps it to a Python function. It binds a URL to a view function in a Flask app."
      ]
    },
    {
      "cell_type": "markdown",
      "id": "2dedde90",
      "metadata": {
        "id": "2dedde90"
      },
      "source": [
        "### 15. What is the purpose of Flask's jsonify() function\n",
        "\n",
        "_Answer:_\n",
        "\n",
        "**Answer:**\n",
        "GET retrieves data from the server and is idempotent. POST submits data to the server to create resources and is not idempotent."
      ]
    },
    {
      "cell_type": "markdown",
      "id": "7e349906",
      "metadata": {
        "id": "7e349906"
      },
      "source": [
        "### 16. Explain Flask’s url_for() function\n",
        "\n",
        "_Answer:_\n",
        "\n",
        "**Answer:**\n",
        "GET retrieves data from the server and is idempotent. POST submits data to the server to create resources and is not idempotent."
      ]
    },
    {
      "cell_type": "markdown",
      "id": "a008ceb2",
      "metadata": {
        "id": "a008ceb2"
      },
      "source": [
        "### 17. How does Flask handle static files (CSS, JavaScript, etc.)\n",
        "\n",
        "_Answer:_\n",
        "\n",
        "**Answer:**\n",
        "Flask uses error handlers like `@app.errorhandler(404)` to catch and return custom messages or responses for errors like 404, 500, etc."
      ]
    },
    {
      "cell_type": "markdown",
      "id": "24640ba9",
      "metadata": {
        "id": "24640ba9"
      },
      "source": [
        "### 18. What is an API specification, and how does it help in building a Flask API\n",
        "\n",
        "_Answer:_\n",
        "\n",
        "**Answer:**\n",
        "Flask uses error handlers like `@app.errorhandler(404)` to catch and return custom messages or responses for errors like 404, 500, etc."
      ]
    },
    {
      "cell_type": "markdown",
      "id": "f9ead5f6",
      "metadata": {
        "id": "f9ead5f6"
      },
      "source": [
        "### 19. What are HTTP status codes, and why are they important in a Flask API\n",
        "\n",
        "_Answer:_\n",
        "\n",
        "**Answer:**\n",
        "You can connect Flask to a SQL database using Flask-SQLAlchemy:\n",
        "```python\n",
        "from flask_sqlalchemy import SQLAlchemy\n",
        "app.config['SQLALCHEMY_DATABASE_URI'] = 'sqlite:///data.db'\n",
        "db = SQLAlchemy(app)\n",
        "```"
      ]
    },
    {
      "cell_type": "markdown",
      "id": "dc0367a7",
      "metadata": {
        "id": "dc0367a7"
      },
      "source": [
        "### 20. How do you handle POST requests in Flask\n",
        "\n",
        "_Answer:_\n",
        "\n",
        "**Answer:**\n",
        "You can connect Flask to a SQL database using Flask-SQLAlchemy:\n",
        "```python\n",
        "from flask_sqlalchemy import SQLAlchemy\n",
        "app.config['SQLALCHEMY_DATABASE_URI'] = 'sqlite:///data.db'\n",
        "db = SQLAlchemy(app)\n",
        "```"
      ]
    },
    {
      "cell_type": "markdown",
      "id": "d9abf563",
      "metadata": {
        "id": "d9abf563"
      },
      "source": [
        "### 21. How would you secure a Flask API\n",
        "\n",
        "_Answer:_\n",
        "\n",
        "**Answer:**\n",
        "Flask-SQLAlchemy integrates SQLAlchemy with Flask, providing ORM capabilities for interacting with relational databases using Python classes."
      ]
    },
    {
      "cell_type": "markdown",
      "id": "437596a4",
      "metadata": {
        "id": "437596a4"
      },
      "source": [
        "### 22. What is the significance of the Flask-RESTful extension\n",
        "\n",
        "_Answer:_\n",
        "\n",
        "**Answer:**\n",
        "Flask-SQLAlchemy integrates SQLAlchemy with Flask, providing ORM capabilities for interacting with relational databases using Python classes."
      ]
    },
    {
      "cell_type": "markdown",
      "id": "301fc4ec",
      "metadata": {
        "id": "301fc4ec"
      },
      "source": [
        "### 23. What is the role of Flask’s session object\n",
        "\n",
        "_Answer:_\n",
        "\n",
        "**Answer:**\n",
        "Blueprints organize a Flask app into components or modules. They help split up large applications into smaller reusable parts."
      ]
    },
    {
      "cell_type": "markdown",
      "source": [
        "# Practical Solutions\n"
      ],
      "metadata": {
        "id": "ra6XRE56UM4F"
      },
      "id": "ra6XRE56UM4F"
    },
    {
      "cell_type": "markdown",
      "id": "68c4d665",
      "metadata": {
        "id": "68c4d665"
      },
      "source": [
        "### 1. How do you create a basic Flask application\n",
        "\n",
        "_Answer:_\n",
        "\n",
        "**Answer:**\n",
        "Blueprints organize a Flask app into components or modules. They help split up large applications into smaller reusable parts."
      ]
    },
    {
      "cell_type": "markdown",
      "id": "23b35644",
      "metadata": {
        "id": "23b35644"
      },
      "source": [
        "### 2. How do you serve static files like images or CSS in Flask\n",
        "\n",
        "_Answer:_\n",
        "\n",
        "**Answer:**\n",
        "`request` is a Flask object used to access data from incoming requests, such as form data, JSON, headers, and query parameters."
      ]
    },
    {
      "cell_type": "markdown",
      "id": "66071b67",
      "metadata": {
        "id": "66071b67"
      },
      "source": [
        "### 3. How do you define different routes with different HTTP methods in Flask\n",
        "\n",
        "_Answer:_\n",
        "\n",
        "**Answer:**\n",
        "`request` is a Flask object used to access data from incoming requests, such as form data, JSON, headers, and query parameters."
      ]
    },
    {
      "cell_type": "markdown",
      "id": "8ac21634",
      "metadata": {
        "id": "8ac21634"
      },
      "source": [
        "### 4. How do you render HTML templates in Flask\n",
        "\n",
        "_Answer:_\n",
        "\n",
        "**Answer:**\n",
        "```python\n",
        "@app.route('/api')\n",
        "def api():\n",
        "    return jsonify({'message': 'Hello API'})\n",
        "```"
      ]
    },
    {
      "cell_type": "markdown",
      "id": "2245ac0a",
      "metadata": {
        "id": "2245ac0a"
      },
      "source": [
        "### 5. How can you generate URLs for routes in Flask using url_for\n",
        "\n",
        "_Answer:_\n",
        "\n",
        "**Answer:**\n",
        "```python\n",
        "@app.route('/api')\n",
        "def api():\n",
        "    return jsonify({'message': 'Hello API'})\n",
        "```"
      ]
    },
    {
      "cell_type": "markdown",
      "id": "b439f4e2",
      "metadata": {
        "id": "b439f4e2"
      },
      "source": [
        "### 6. How do you handle forms in Flask\n",
        "\n",
        "_Answer:_\n",
        "\n",
        "**Answer:**\n",
        "`jsonify()` serializes data to JSON and sets the correct MIME type (`application/json`) for API responses."
      ]
    },
    {
      "cell_type": "markdown",
      "id": "e42aea51",
      "metadata": {
        "id": "e42aea51"
      },
      "source": [
        "### 7. How can you validate form data in Flask\n",
        "\n",
        "_Answer:_\n",
        "\n",
        "**Answer:**\n",
        "`jsonify()` serializes data to JSON and sets the correct MIME type (`application/json`) for API responses."
      ]
    },
    {
      "cell_type": "markdown",
      "id": "c509b01c",
      "metadata": {
        "id": "c509b01c"
      },
      "source": [
        "### 8. How do you manage sessions in Flask\n",
        "\n",
        "_Answer:_\n",
        "\n",
        "**Answer:**\n",
        "`url_for()` dynamically generates URLs for routes using function names. It ensures that links remain valid even if the route changes."
      ]
    },
    {
      "cell_type": "markdown",
      "id": "24de63b6",
      "metadata": {
        "id": "24de63b6"
      },
      "source": [
        "### 9. How do you redirect to a different route in Flask\n",
        "\n",
        "_Answer:_\n",
        "\n",
        "**Answer:**\n",
        "`url_for()` dynamically generates URLs for routes using function names. It ensures that links remain valid even if the route changes."
      ]
    },
    {
      "cell_type": "markdown",
      "id": "232762a1",
      "metadata": {
        "id": "232762a1"
      },
      "source": [
        "### 10. How do you handle errors in Flask (e.g., 404)\n",
        "\n",
        "_Answer:_\n",
        "\n",
        "**Answer:**\n",
        "Static files (e.g., CSS, JS, images) are stored in the `static/` directory. Flask serves them automatically at `/static/filename.ext`."
      ]
    },
    {
      "cell_type": "markdown",
      "id": "34906fc4",
      "metadata": {
        "id": "34906fc4"
      },
      "source": [
        "### 11. How do you structure a Flask app using Blueprints\n",
        "\n",
        "_Answer:_\n",
        "\n",
        "**Answer:**\n",
        "Static files (e.g., CSS, JS, images) are stored in the `static/` directory. Flask serves them automatically at `/static/filename.ext`."
      ]
    },
    {
      "cell_type": "markdown",
      "id": "5471a6a1",
      "metadata": {
        "id": "5471a6a1"
      },
      "source": [
        "### 12. How do you define a custom Jinja filter in Flask\n",
        "\n",
        "_Answer:_\n",
        "\n",
        "**Answer:**\n",
        "An API specification documents all aspects of an API. It helps build reliable APIs and makes them easier to consume, test, and maintain."
      ]
    },
    {
      "cell_type": "markdown",
      "id": "6e34fbc9",
      "metadata": {
        "id": "6e34fbc9"
      },
      "source": [
        "### 13. How can you redirect with query parameters in Flask\n",
        "\n",
        "_Answer:_\n",
        "\n",
        "**Answer:**\n",
        "An API specification documents all aspects of an API. It helps build reliable APIs and makes them easier to consume, test, and maintain."
      ]
    },
    {
      "cell_type": "markdown",
      "id": "57224143",
      "metadata": {
        "id": "57224143"
      },
      "source": [
        "### 14. How do you return JSON responses in Flask\n",
        "\n",
        "_Answer:_\n",
        "\n",
        "**Answer:**\n",
        "HTTP status codes indicate the result of an HTTP request (e.g., 200 OK, 404 Not Found). They help clients understand what happened."
      ]
    },
    {
      "cell_type": "markdown",
      "id": "28336e51",
      "metadata": {
        "id": "28336e51"
      },
      "source": [
        "### 15. How do you capture URL parameters in Flask?\n",
        "\n",
        "_Answer:_\n",
        "\n",
        "**Answer:**\n",
        "HTTP status codes indicate the result of an HTTP request (e.g., 200 OK, 404 Not Found). They help clients understand what happened."
      ]
    },
    {
      "cell_type": "markdown",
      "id": "a693865d",
      "metadata": {
        "id": "a693865d"
      },
      "source": [
        "### Create a basic Flask application\n",
        "\n",
        "**Answer:**\n",
        "Handle POST using:\n",
        "```python\n",
        "@app.route('/submit', methods=['POST'])\n",
        "def submit():\n",
        "    data = request.form['name']\n",
        "    return f\"Hello {data}\"\n",
        "```"
      ]
    },
    {
      "cell_type": "code",
      "execution_count": null,
      "id": "30e93b55",
      "metadata": {
        "colab": {
          "base_uri": "https://localhost:8080/"
        },
        "id": "30e93b55",
        "outputId": "cc631947-9c56-469f-f084-90c0a7fbfd41"
      },
      "outputs": [
        {
          "output_type": "stream",
          "name": "stdout",
          "text": [
            " * Serving Flask app '__main__'\n",
            " * Debug mode: on\n"
          ]
        },
        {
          "output_type": "stream",
          "name": "stderr",
          "text": [
            "INFO:werkzeug:\u001b[31m\u001b[1mWARNING: This is a development server. Do not use it in a production deployment. Use a production WSGI server instead.\u001b[0m\n",
            " * Running on http://127.0.0.1:5000\n",
            "INFO:werkzeug:\u001b[33mPress CTRL+C to quit\u001b[0m\n",
            "INFO:werkzeug: * Restarting with stat\n"
          ]
        }
      ],
      "source": [
        "from flask import Flask\n",
        "app = Flask(__name__)\n",
        "\n",
        "@app.route('/')\n",
        "def home():\n",
        "    return \"Hello, Flask!\"\n",
        "\n",
        "if __name__ == '__main__':\n",
        "    app.run(debug=True)"
      ]
    },
    {
      "cell_type": "markdown",
      "id": "d7cece34",
      "metadata": {
        "id": "d7cece34"
      },
      "source": [
        "### Serve static files in Flask\n",
        "\n",
        "**Answer:**\n",
        "Secure a Flask API using:\n",
        "- HTTPS\n",
        "- Authentication (JWT, OAuth)\n",
        "- Input validation\n",
        "- Rate limiting\n",
        "- Error handling"
      ]
    },
    {
      "cell_type": "code",
      "execution_count": null,
      "id": "d52c4fce",
      "metadata": {
        "id": "d52c4fce"
      },
      "outputs": [],
      "source": [
        "# Place your static files in the 'static' folder\n",
        "# Access via http://localhost:5000/static/filename.ext"
      ]
    },
    {
      "cell_type": "markdown",
      "id": "78d5a123",
      "metadata": {
        "id": "78d5a123"
      },
      "source": [
        "### Define different routes with different HTTP methods\n",
        "\n",
        "**Answer:**\n",
        "Flask-RESTful is an extension for building REST APIs quickly. It adds support for resource routing, input parsing, and more."
      ]
    },
    {
      "cell_type": "code",
      "execution_count": null,
      "id": "b326b689",
      "metadata": {
        "id": "b326b689"
      },
      "outputs": [],
      "source": [
        "from flask import request\n",
        "\n",
        "@app.route('/example', methods=['GET', 'POST'])\n",
        "def example():\n",
        "    if request.method == 'POST':\n",
        "        return \"This is a POST request\"\n",
        "    return \"This is a GET request\""
      ]
    },
    {
      "cell_type": "markdown",
      "id": "623d934e",
      "metadata": {
        "id": "623d934e"
      },
      "source": [
        "### Render HTML templates\n",
        "\n",
        "**Answer:**\n",
        "`session` is used to store data across requests per user. It uses cookies and is helpful for authentication and user preferences."
      ]
    },
    {
      "cell_type": "code",
      "execution_count": null,
      "id": "4021706f",
      "metadata": {
        "id": "4021706f"
      },
      "outputs": [],
      "source": [
        "from flask import render_template\n",
        "\n",
        "@app.route('/html')\n",
        "def html():\n",
        "    return render_template('index.html')  # Make sure index.html is in the templates folder"
      ]
    }
  ],
  "metadata": {
    "colab": {
      "provenance": []
    },
    "language_info": {
      "name": "python"
    },
    "kernelspec": {
      "name": "python3",
      "display_name": "Python 3"
    }
  },
  "nbformat": 4,
  "nbformat_minor": 5
}