{
 "cells": [
  {
   "cell_type": "markdown",
   "id": "a07f8045",
   "metadata": {},
   "source": [
    "# Machine Learning Assignment\n",
    "\n",
    "This notebook contains answers and code for the Machine Learning assignment questions related to Feature Engineering."
   ]
  },
  {
   "cell_type": "markdown",
   "id": "46349db1",
   "metadata": {},
   "source": [
    "**Q1. What is a parameter?**\n",
    "\n",
    "*Answer:*\n",
    "\n",
    "In machine learning, a parameter is an internal variable whose value is estimated from the data during training. For example, in linear regression, the slope and intercept are parameters. Parameters help define how input data is transformed into the desired output."
   ]
  },
  {
   "cell_type": "markdown",
   "id": "c176f780",
   "metadata": {},
   "source": [
    "**Q2. What is correlation?**\n",
    "\n",
    "*Answer:*\n",
    "\n",
    "Correlation is a statistical measure that expresses the extent to which two variables are linearly related. It ranges from -1 to +1. A value of +1 means a perfect positive relationship, -1 indicates a perfect negative relationship, and 0 implies no linear relationship."
   ]
  },
  {
   "cell_type": "markdown",
   "id": "9abac724",
   "metadata": {},
   "source": [
    "**Q3. What does negative correlation mean?**\n",
    "\n",
    "*Answer:*\n",
    "\n",
    "Negative correlation means that as one variable increases, the other decreases. For example, as the number of hours spent watching TV increases, the grades of a student may decrease, showing a negative correlation."
   ]
  },
  {
   "cell_type": "markdown",
   "id": "788c6dc4",
   "metadata": {},
   "source": [
    "**Q4. Define Machine Learning. What are the main components in Machine Learning?**\n",
    "\n",
    "*Answer:*\n",
    "\n",
    "Machine Learning (ML) is a field of artificial intelligence that enables systems to learn patterns from data and improve from experience without being explicitly programmed. Key components:\n",
    "- Data\n",
    "- Features\n",
    "- Model\n",
    "- Loss function\n",
    "- Optimizer"
   ]
  },
  {
   "cell_type": "markdown",
   "id": "70d0ba89",
   "metadata": {},
   "source": [
    "**Q5. How does loss value help in determining whether the model is good or not?**\n",
    "\n",
    "*Answer:*\n",
    "\n",
    "The loss value indicates how far the predicted values are from the actual values. A lower loss value means the model is making better predictions. It helps in model evaluation and optimization."
   ]
  },
  {
   "cell_type": "markdown",
   "id": "e614961a",
   "metadata": {},
   "source": [
    "**Q6. What are continuous and categorical variables?**\n",
    "\n",
    "*Answer:*\n",
    "\n",
    "- **Continuous variables**: Can take any numerical value (e.g., height, weight).\n",
    "- **Categorical variables**: Represent categories or labels (e.g., gender, color)."
   ]
  },
  {
   "cell_type": "markdown",
   "id": "e4b2493a",
   "metadata": {},
   "source": [
    "**Q7. How do we handle categorical variables in Machine Learning? What are the common techniques?**\n",
    "\n",
    "*Answer:*\n",
    "\n",
    "Common techniques include:\n",
    "- **Label Encoding**: Assigns a unique number to each category.\n",
    "- **One-Hot Encoding**: Creates binary columns for each category.\n",
    "- **Ordinal Encoding**: Assigns ordered numbers based on category hierarchy."
   ]
  },
  {
   "cell_type": "markdown",
   "id": "6eb47361",
   "metadata": {},
   "source": [
    "**Q8. What do you mean by training and testing a dataset?**\n",
    "\n",
    "*Answer:*\n",
    "\n",
    "- **Training dataset**: Used to train the model.\n",
    "- **Testing dataset**: Used to evaluate the performance of the trained model on unseen data."
   ]
  },
  {
   "cell_type": "markdown",
   "id": "97f9a762",
   "metadata": {},
   "source": [
    "**Q9. What is sklearn.preprocessing?**\n",
    "\n",
    "*Answer:*\n",
    "\n",
    "`sklearn.preprocessing` is a module in Scikit-learn that provides functions to preprocess data. This includes scaling, normalization, encoding, and transformation of features."
   ]
  },
  {
   "cell_type": "markdown",
   "id": "89f56c04",
   "metadata": {},
   "source": [
    "**Q10. What is a Test set?**\n",
    "\n",
    "*Answer:*\n",
    "\n",
    "A test set is a portion of the dataset that is not used during training and is used to evaluate the performance and generalization of the trained model."
   ]
  },
  {
   "cell_type": "markdown",
   "id": "9f685318",
   "metadata": {},
   "source": [
    "**Q11. How do you approach a Machine Learning problem?**\n",
    "\n",
    "*Answer:*\n",
    "\n",
    "Steps include:\n",
    "1. Understand the problem\n",
    "2. Collect and explore the data\n",
    "3. Preprocess the data\n",
    "4. Choose the model\n",
    "5. Train the model\n",
    "6. Evaluate the model\n",
    "7. Tune hyperparameters\n",
    "8. Deploy the model"
   ]
  },
  {
   "cell_type": "markdown",
   "id": "404ab534",
   "metadata": {},
   "source": [
    "**Q12. Why do we have to perform EDA before fitting a model to the data?**\n",
    "\n",
    "*Answer:*\n",
    "\n",
    "Exploratory Data Analysis (EDA) helps understand data distribution, identify outliers, detect missing values, and find relationships between features. This ensures better model selection and preprocessing."
   ]
  },
  {
   "cell_type": "markdown",
   "id": "012cdc6c",
   "metadata": {},
   "source": [
    "**Q13. What is causation? Explain difference between correlation and causation with an example.**\n",
    "\n",
    "*Answer:*\n",
    "\n",
    "Causation means one variable causes a change in another. Correlation only shows a relationship. For example, ice cream sales and drowning incidents are correlated (both rise in summer), but one doesn’t cause the other."
   ]
  },
  {
   "cell_type": "markdown",
   "id": "019d88d3",
   "metadata": {},
   "source": [
    "**Q14. What is an Optimizer? What are different types of optimizers? Explain each with an example.**\n",
    "\n",
    "*Answer:*\n",
    "\n",
    "An optimizer adjusts the model parameters to minimize the loss function. Common optimizers:\n",
    "- **SGD (Stochastic Gradient Descent)**: Updates weights using small batches.\n",
    "- **Adam**: Adaptive learning rate, combines RMSprop and momentum.\n",
    "- **RMSprop**: Uses moving average of squared gradients to normalize."
   ]
  },
  {
   "cell_type": "markdown",
   "id": "10cc8941",
   "metadata": {},
   "source": [
    "**Q15. What is sklearn.linear_model ?**\n",
    "\n",
    "*Answer:*\n",
    "\n",
    "`sklearn.linear_model` is a module in Scikit-learn that includes linear models like Linear Regression, Logistic Regression, Ridge, Lasso, etc., used for prediction tasks."
   ]
  },
  {
   "cell_type": "markdown",
   "id": "2cf90d74",
   "metadata": {},
   "source": [
    "**Q16. What does model.fit() do? What arguments must be given?**\n",
    "\n",
    "*Answer:*\n",
    "\n",
    "`model.fit(X, y)` trains the model using input features `X` and target values `y`. It adjusts internal parameters to minimize the loss function."
   ]
  },
  {
   "cell_type": "markdown",
   "id": "7c394ef1",
   "metadata": {},
   "source": [
    "**Q17. What does model.predict() do? What arguments must be given?**\n",
    "\n",
    "*Answer:*\n",
    "\n",
    "`model.predict(X)` uses the trained model to predict target values for input features `X`."
   ]
  },
  {
   "cell_type": "markdown",
   "id": "06686e1a",
   "metadata": {},
   "source": [
    "**Q18. What is feature scaling? How does it help in Machine Learning?**\n",
    "\n",
    "*Answer:*\n",
    "\n",
    "Feature scaling transforms features to be on a similar scale. It improves model performance and convergence speed, especially for models based on distance (e.g., KNN, SVM)."
   ]
  },
  {
   "cell_type": "markdown",
   "id": "6e91858a",
   "metadata": {},
   "source": [
    "**Q19. Explain data encoding?**\n",
    "\n",
    "*Answer:*\n",
    "\n",
    "Data encoding converts categorical variables into numerical format so that machine learning models can process them. Techniques include label encoding, one-hot encoding, and ordinal encoding."
   ]
  },
  {
   "cell_type": "markdown",
   "id": "6727cc05",
   "metadata": {},
   "source": [
    "**Q20. How can you find correlation between variables in Python?**\n",
    "\n",
    "*Answer:*"
   ]
  },
  {
   "cell_type": "code",
   "execution_count": null,
   "id": "f4277ace",
   "metadata": {},
   "outputs": [],
   "source": [
    "import seaborn as sns\n",
    "import matplotlib.pyplot as plt\n",
    "import pandas as pd\n",
    "\n",
    "# Sample dataset\n",
    "df = sns.load_dataset('iris')\n",
    "correlation_matrix = df.corr()\n",
    "\n",
    "# Plot heatmap\n",
    "sns.heatmap(correlation_matrix, annot=True, cmap='coolwarm')\n",
    "plt.title('Correlation Heatmap')\n",
    "plt.show()"
   ]
  },
  {
   "cell_type": "markdown",
   "id": "15daa273",
   "metadata": {},
   "source": [
    "**Q21. How do we perform scaling in Python?**\n",
    "\n",
    "*Answer:*"
   ]
  },
  {
   "cell_type": "code",
   "execution_count": null,
   "id": "69a4db45",
   "metadata": {},
   "outputs": [],
   "source": [
    "from sklearn.preprocessing import StandardScaler\n",
    "import numpy as np\n",
    "\n",
    "# Sample data\n",
    "data = np.array([[1, 2], [3, 6], [5, 10]])\n",
    "\n",
    "# Perform scaling\n",
    "scaler = StandardScaler()\n",
    "scaled_data = scaler.fit_transform(data)\n",
    "print(\"Scaled Data:\\n\", scaled_data)"
   ]
  },
  {
   "cell_type": "markdown",
   "id": "ea7374f8",
   "metadata": {},
   "source": [
    "**Q22. How do we split data for model fitting (training and testing) in Python?**\n",
    "\n",
    "*Answer:*"
   ]
  },
  {
   "cell_type": "code",
   "execution_count": null,
   "id": "ddd4faaa",
   "metadata": {},
   "outputs": [],
   "source": [
    "from sklearn.model_selection import train_test_split\n",
    "from sklearn.datasets import load_iris\n",
    "\n",
    "# Load dataset\n",
    "iris = load_iris()\n",
    "X = iris.data\n",
    "y = iris.target\n",
    "\n",
    "# Split data\n",
    "X_train, X_test, y_train, y_test = train_test_split(X, y, test_size=0.2, random_state=42)\n",
    "\n",
    "print(\"Train shape:\", X_train.shape)\n",
    "print(\"Test shape:\", X_test.shape)"
   ]
  }
 ],
 "metadata": {},
 "nbformat": 4,
 "nbformat_minor": 5
}
